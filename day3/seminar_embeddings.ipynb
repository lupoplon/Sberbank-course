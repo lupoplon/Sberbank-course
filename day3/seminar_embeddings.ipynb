{
 "cells": [
  {
   "cell_type": "markdown",
   "metadata": {
    "colab_type": "text",
    "id": "xPszMQhYbSVb"
   },
   "source": [
    "<h2 style=\"text-align: center;\"><b>Word embeddings</b></h2>"
   ]
  },
  {
   "cell_type": "code",
   "execution_count": 1,
   "metadata": {
    "collapsed": true
   },
   "outputs": [
    {
     "name": "stdout",
     "output_type": "stream",
     "text": [
      "Collecting nltk\n",
      "\u001b[?25l  Downloading https://files.pythonhosted.org/packages/f6/1d/d925cfb4f324ede997f6d47bea4d9babba51b49e87a767c170b77005889d/nltk-3.4.5.zip (1.5MB)\n",
      "\u001b[K     |████████████████████████████████| 1.5MB 783kB/s eta 0:00:01\n",
      "\u001b[?25hCollecting gensim\n",
      "\u001b[?25l  Downloading https://files.pythonhosted.org/packages/c8/3a/32a1edf4f335eba0873021a7ddb3230f05dedd2b5450960118b402ca0771/gensim-3.8.0-cp37-cp37m-macosx_10_6_intel.macosx_10_9_intel.macosx_10_9_x86_64.macosx_10_10_intel.macosx_10_10_x86_64.whl (24.7MB)\n",
      "\u001b[K     |████████████████████████████████| 24.7MB 299kB/s eta 0:00:01     |███████████████████             | 14.6MB 1.2MB/s eta 0:00:09     |████████████████████████████▊   | 22.1MB 1.3MB/s eta 0:00:02\n",
      "\u001b[?25hCollecting bokeh\n",
      "\u001b[?25l  Downloading https://files.pythonhosted.org/packages/89/25/a07183dd96ca22dafe429254985cbf8241ccd35730c5568d6502b3bc6bb7/bokeh-1.3.4.tar.gz (17.8MB)\n",
      "\u001b[K     |████████████████████████████████| 17.8MB 2.5MB/s eta 0:00:01     |████████████████████▎           | 11.3MB 2.4MB/s eta 0:00:03\n",
      "\u001b[?25hRequirement already satisfied, skipping upgrade: six in /anaconda3/lib/python3.7/site-packages (from nltk) (1.12.0)\n",
      "Collecting smart-open>=1.7.0 (from gensim)\n",
      "\u001b[?25l  Downloading https://files.pythonhosted.org/packages/37/c0/25d19badc495428dec6a4bf7782de617ee0246a9211af75b302a2681dea7/smart_open-1.8.4.tar.gz (63kB)\n",
      "\u001b[K     |████████████████████████████████| 71kB 147kB/s eta 0:00:011\n",
      "\u001b[?25hRequirement already satisfied, skipping upgrade: scipy>=0.18.1 in /anaconda3/lib/python3.7/site-packages (from gensim) (1.3.0)\n",
      "Requirement already satisfied, skipping upgrade: numpy>=1.11.3 in /anaconda3/lib/python3.7/site-packages (from gensim) (1.16.4)\n",
      "Requirement already satisfied, skipping upgrade: PyYAML>=3.10 in /anaconda3/lib/python3.7/site-packages (from bokeh) (5.1.1)\n",
      "Requirement already satisfied, skipping upgrade: python-dateutil>=2.1 in /anaconda3/lib/python3.7/site-packages (from bokeh) (2.8.0)\n",
      "Requirement already satisfied, skipping upgrade: Jinja2>=2.7 in /anaconda3/lib/python3.7/site-packages (from bokeh) (2.10.1)\n",
      "Requirement already satisfied, skipping upgrade: pillow>=4.0 in /anaconda3/lib/python3.7/site-packages (from bokeh) (6.1.0)\n",
      "Requirement already satisfied, skipping upgrade: packaging>=16.8 in /anaconda3/lib/python3.7/site-packages (from bokeh) (19.0)\n",
      "Requirement already satisfied, skipping upgrade: tornado>=4.3 in /anaconda3/lib/python3.7/site-packages (from bokeh) (6.0.3)\n",
      "Requirement already satisfied, skipping upgrade: boto>=2.32 in /anaconda3/lib/python3.7/site-packages (from smart-open>=1.7.0->gensim) (2.49.0)\n",
      "Requirement already satisfied, skipping upgrade: requests in /anaconda3/lib/python3.7/site-packages (from smart-open>=1.7.0->gensim) (2.22.0)\n",
      "Collecting boto3 (from smart-open>=1.7.0->gensim)\n",
      "\u001b[?25l  Downloading https://files.pythonhosted.org/packages/07/9c/23a55fda000d53c8183e8d22a44b3800d7f6bafbfb3f233236df97c1068d/boto3-1.9.220-py2.py3-none-any.whl (128kB)\n",
      "\u001b[K     |████████████████████████████████| 133kB 802kB/s eta 0:00:01\n",
      "\u001b[?25hRequirement already satisfied, skipping upgrade: MarkupSafe>=0.23 in /anaconda3/lib/python3.7/site-packages (from Jinja2>=2.7->bokeh) (1.1.1)\n",
      "Requirement already satisfied, skipping upgrade: pyparsing>=2.0.2 in /anaconda3/lib/python3.7/site-packages (from packaging>=16.8->bokeh) (2.4.0)\n",
      "Requirement already satisfied, skipping upgrade: urllib3!=1.25.0,!=1.25.1,<1.26,>=1.21.1 in /anaconda3/lib/python3.7/site-packages (from requests->smart-open>=1.7.0->gensim) (1.24.2)\n",
      "Requirement already satisfied, skipping upgrade: certifi>=2017.4.17 in /anaconda3/lib/python3.7/site-packages (from requests->smart-open>=1.7.0->gensim) (2019.6.16)\n",
      "Requirement already satisfied, skipping upgrade: chardet<3.1.0,>=3.0.2 in /anaconda3/lib/python3.7/site-packages (from requests->smart-open>=1.7.0->gensim) (3.0.4)\n",
      "Requirement already satisfied, skipping upgrade: idna<2.9,>=2.5 in /anaconda3/lib/python3.7/site-packages (from requests->smart-open>=1.7.0->gensim) (2.8)\n",
      "Collecting botocore<1.13.0,>=1.12.220 (from boto3->smart-open>=1.7.0->gensim)\n",
      "\u001b[?25l  Downloading https://files.pythonhosted.org/packages/ea/0d/7bd08434788c48f2cd4ab9da937cb7eaaf987a16c8ef4a7f05fc97b84db9/botocore-1.12.220-py2.py3-none-any.whl (5.7MB)\n",
      "\u001b[K     |████████████████████████████████| 5.7MB 1.5MB/s eta 0:00:01\n",
      "\u001b[?25hCollecting s3transfer<0.3.0,>=0.2.0 (from boto3->smart-open>=1.7.0->gensim)\n",
      "\u001b[?25l  Downloading https://files.pythonhosted.org/packages/16/8a/1fc3dba0c4923c2a76e1ff0d52b305c44606da63f718d14d3231e21c51b0/s3transfer-0.2.1-py2.py3-none-any.whl (70kB)\n",
      "\u001b[K     |████████████████████████████████| 71kB 215kB/s eta 0:00:011\n",
      "\u001b[?25hCollecting jmespath<1.0.0,>=0.7.1 (from boto3->smart-open>=1.7.0->gensim)\n",
      "  Downloading https://files.pythonhosted.org/packages/83/94/7179c3832a6d45b266ddb2aac329e101367fbdb11f425f13771d27f225bb/jmespath-0.9.4-py2.py3-none-any.whl\n",
      "Requirement already satisfied, skipping upgrade: docutils<0.16,>=0.10 in /anaconda3/lib/python3.7/site-packages (from botocore<1.13.0,>=1.12.220->boto3->smart-open>=1.7.0->gensim) (0.14)\n",
      "Building wheels for collected packages: nltk, bokeh, smart-open\n",
      "  Building wheel for nltk (setup.py) ... \u001b[?25ldone\n",
      "\u001b[?25h  Stored in directory: /Users/daniilkorbut/Library/Caches/pip/wheels/96/86/f6/68ab24c23f207c0077381a5e3904b2815136b879538a24b483\n",
      "  Building wheel for bokeh (setup.py) ... \u001b[?25ldone\n",
      "\u001b[?25h  Stored in directory: /Users/daniilkorbut/Library/Caches/pip/wheels/a7/df/f1/80f108cd241803a5200576ac0eed112f0acea5582575cf08b6\n",
      "  Building wheel for smart-open (setup.py) ... \u001b[?25ldone\n",
      "\u001b[?25h  Stored in directory: /Users/daniilkorbut/Library/Caches/pip/wheels/5f/ea/fb/5b1a947b369724063b2617011f1540c44eb00e28c3d2ca8692\n",
      "Successfully built nltk bokeh smart-open\n",
      "Installing collected packages: nltk, jmespath, botocore, s3transfer, boto3, smart-open, gensim, bokeh\n",
      "  Found existing installation: nltk 3.4.4\n",
      "    Uninstalling nltk-3.4.4:\n",
      "      Successfully uninstalled nltk-3.4.4\n",
      "  Found existing installation: bokeh 1.2.0\n",
      "    Uninstalling bokeh-1.2.0:\n",
      "      Successfully uninstalled bokeh-1.2.0\n",
      "Successfully installed bokeh-1.3.4 boto3-1.9.220 botocore-1.12.220 gensim-3.8.0 jmespath-0.9.4 nltk-3.4.5 s3transfer-0.2.1 smart-open-1.8.4\n"
     ]
    }
   ],
   "source": [
    "!pip install --upgrade nltk gensim bokeh"
   ]
  },
  {
   "cell_type": "markdown",
   "metadata": {
    "colab_type": "text",
    "id": "kZTnWfoEbryt"
   },
   "source": [
    "**NLTK** (Natural Language Toolkit) -- a library with many features to work with natural language (e.g. lemmatization, tokenization, etc.)\n",
    "\n",
    "https://www.nltk.org\n",
    "\n",
    "We wull use it for tokenization for now."
   ]
  },
  {
   "cell_type": "code",
   "execution_count": 2,
   "metadata": {
    "colab": {},
    "colab_type": "code",
    "id": "U7vuP82fbdpx"
   },
   "outputs": [
    {
     "name": "stdout",
     "output_type": "stream",
     "text": [
      "['Which', 'brand', 'should', 'go', 'with', 'the', 'GTX', '960', 'graphic', 'card', ',', 'MSI', ',', 'Zotac', 'or', 'ASUS', '?']\n"
     ]
    }
   ],
   "source": [
    "from nltk.tokenize import WordPunctTokenizer\n",
    "tokenizer = WordPunctTokenizer()\n",
    "\n",
    "quora = list(open(\"./quora.txt\"))\n",
    "# look at 10th question from the dataset\n",
    "print(tokenizer.tokenize(quora[10]))"
   ]
  },
  {
   "cell_type": "markdown",
   "metadata": {
    "colab_type": "text",
    "id": "Q72RDmVkBCC3"
   },
   "source": [
    "Let's tokenize all the texts from quora.txt file and get array of arrays of tokens:"
   ]
  },
  {
   "cell_type": "code",
   "execution_count": 3,
   "metadata": {
    "colab": {},
    "colab_type": "code",
    "id": "3Z6xzhsPc1jZ"
   },
   "outputs": [],
   "source": [
    "quora_tokenized = [tokenizer.tokenize(line.lower()) for line in quora]"
   ]
  },
  {
   "cell_type": "markdown",
   "metadata": {
    "colab_type": "text",
    "id": "6aHSIIThdSIF"
   },
   "source": [
    "There are many different models to train to get word embeddings (Word2Vec, GloVe, FastText, etc). For now let's try to train word2vec.\n",
    "\n",
    "Library **gensim** will help us with that -- it provides models for Word2Vec training and further vectors' investigation"
   ]
  },
  {
   "cell_type": "code",
   "execution_count": 4,
   "metadata": {
    "colab": {},
    "colab_type": "code",
    "id": "iwPQDCXWdBrW"
   },
   "outputs": [],
   "source": [
    "from gensim.models import Word2Vec\n",
    "# define a model (just like torch model) with parameters\n",
    "# and train it on our data\n",
    "model = Word2Vec(quora_tokenized, # data for model to train on\n",
    "                 size=32,         # embedding vector size\n",
    "                 min_count=5,     # consider words that occured at least 5 times\n",
    "                 window=3).wv     # define context as a 3-word window around the target word"
   ]
  },
  {
   "cell_type": "markdown",
   "metadata": {
    "colab_type": "text",
    "id": "YfzWThklBiJo"
   },
   "source": [
    "Now we have trained model and can play with it:"
   ]
  },
  {
   "cell_type": "code",
   "execution_count": 5,
   "metadata": {
    "colab": {},
    "colab_type": "code",
    "id": "7xirOxjPdKAd"
   },
   "outputs": [
    {
     "data": {
      "text/plain": [
       "array([-0.27617228,  6.1051373 , -1.1585325 ,  0.19717441, -0.77615315,\n",
       "        1.3808045 , -2.2622037 , -0.83657634,  1.8669027 ,  1.8883147 ,\n",
       "       -0.22466594,  0.23334873,  1.20261   , -0.02836741,  0.19491689,\n",
       "        1.9990473 ,  2.4067266 , -1.899442  ,  1.3972796 , -2.7939408 ,\n",
       "        0.58265024,  3.9040642 , -2.2348464 , -0.8013072 , -1.0593402 ,\n",
       "        0.9963031 ,  2.1993587 ,  3.2382784 ,  0.21081461, -1.3073905 ,\n",
       "        1.3929702 ,  2.6873975 ], dtype=float32)"
      ]
     },
     "execution_count": 5,
     "metadata": {},
     "output_type": "execute_result"
    }
   ],
   "source": [
    "# we can get a vector for any word in our vocabulary\n",
    "model.get_vector('tv')"
   ]
  },
  {
   "cell_type": "code",
   "execution_count": 6,
   "metadata": {
    "colab": {},
    "colab_type": "code",
    "id": "IFy6mJsXdhXE"
   },
   "outputs": [
    {
     "data": {
      "text/plain": [
       "[('television', 0.8958842158317566),\n",
       " ('netflix', 0.782157301902771),\n",
       " ('game', 0.77797532081604),\n",
       " ('anime', 0.7679802179336548),\n",
       " ('games', 0.7626651525497437),\n",
       " ('ps4', 0.738214910030365),\n",
       " ('dvd', 0.7342666387557983),\n",
       " ('player', 0.7303683161735535),\n",
       " ('band', 0.7252438068389893),\n",
       " ('music', 0.7231017351150513)]"
      ]
     },
     "execution_count": 6,
     "metadata": {},
     "output_type": "execute_result"
    }
   ],
   "source": [
    "# and get words that have most similar vectors to vector of the given word\n",
    "model.most_similar('tv')"
   ]
  },
  {
   "cell_type": "markdown",
   "metadata": {
    "colab_type": "text",
    "id": "k-CSminTez1z"
   },
   "source": [
    "Nice!\n",
    "\n",
    "But actually for big tasks as text classifications or something like we would like to have better vectors. If we started training them by ourselves, we would need a LARGE text corpus and LARGE amount of memory and time. But as we are poor students by now, and need to do our homework till the next week, we don't have it all by now.\n",
    "\n",
    "That is why there are pre-trained models or even pre-computed word vectors collections!"
   ]
  },
  {
   "cell_type": "code",
   "execution_count": 7,
   "metadata": {
    "colab": {},
    "colab_type": "code",
    "id": "xoUBV_UMfRIu"
   },
   "outputs": [
    {
     "name": "stdout",
     "output_type": "stream",
     "text": [
      "[==================================================] 100.0% 387.1/387.1MB downloaded\n"
     ]
    }
   ],
   "source": [
    "import gensim.downloader as api\n",
    "model = api.load('glove-twitter-100') # list of available models: https://github.com/RaRe-Technologies/gensim-data#models"
   ]
  },
  {
   "cell_type": "code",
   "execution_count": 8,
   "metadata": {
    "colab": {},
    "colab_type": "code",
    "id": "Z30sJahPf2Y2"
   },
   "outputs": [
    {
     "data": {
      "text/plain": [
       "[('broker', 0.5820155143737793),\n",
       " ('bonuses', 0.5424473285675049),\n",
       " ('banker', 0.5385112762451172),\n",
       " ('designer', 0.5197198390960693),\n",
       " ('merchandising', 0.4964233338832855),\n",
       " ('treet', 0.49220192432403564),\n",
       " ('shopper', 0.4920561909675598),\n",
       " ('part-time', 0.49128279089927673),\n",
       " ('freelance', 0.4843312203884125),\n",
       " ('aupair', 0.4796452522277832)]"
      ]
     },
     "execution_count": 8,
     "metadata": {},
     "output_type": "execute_result"
    }
   ],
   "source": [
    "# who is a person who has money and related to coding, but is really stupid?\n",
    "# (it's how a model trained on text corpus thinks, not me)\n",
    "model.most_similar(positive=[\"coder\", \"money\"], negative=[\"brain\"])"
   ]
  },
  {
   "cell_type": "markdown",
   "metadata": {
    "colab_type": "text",
    "id": "2aJOipoChANV"
   },
   "source": [
    "Also using gensim we can load pre-trained vectors from vectors file. We can for example load pre-trained google word2vec vectors:\n",
    "\n",
    "http://mccormickml.com/2016/04/12/googles-pretrained-word2vec-model-in-python/"
   ]
  },
  {
   "cell_type": "code",
   "execution_count": 9,
   "metadata": {
    "colab": {},
    "colab_type": "code",
    "id": "PwH86KytheiP"
   },
   "outputs": [],
   "source": [
    "# from gensim.models import KeyedVectors\n",
    "# model = KeyedVectors.load_word2vec_format('./GoogleNews-vectors-negative300.bin', binary=True) "
   ]
  },
  {
   "cell_type": "markdown",
   "metadata": {
    "colab_type": "text",
    "id": "ntBcysEnh-DP"
   },
   "source": [
    "## Visualization"
   ]
  },
  {
   "cell_type": "markdown",
   "metadata": {
    "colab_type": "text",
    "id": "cvVwJWM2CGHW"
   },
   "source": [
    "So let's visualize our embeddings on 2-d space. \n",
    "\n",
    "What we need is:\n",
    "1. get embeddings for a batch of words from the gensim model\n",
    "2. reduce dimensionality of those embeddings from 100-dim to 2-dim vectors\n",
    "3. normalize those vectors\n",
    "4. draw it on a plane!\n",
    "\n",
    "So let's do that:"
   ]
  },
  {
   "cell_type": "code",
   "execution_count": 10,
   "metadata": {
    "colab": {},
    "colab_type": "code",
    "id": "aMn9AdhxhrOn"
   },
   "outputs": [
    {
     "name": "stdout",
     "output_type": "stream",
     "text": [
      "['<user>', 'i', ')', 'no', 'la', 'o', '>', 'are', 'we', '♥', '_', 'now', '~', 'people', \"'re\", '>>', '[', 'q', 'je', 'never', 'please', 'c', 'hahaha', 'لا', 'then', 'itu', 'had', 'ah', 'esta', 'does', 'apa', 'les', 'work', 'god', 'ha', 'their', 'в', '\\\\', 'gue', '＾', 'justin', 'thing', 'hope', 'nigga', 'udah', 'same', 'voy', 'find', 'اللي', 'face', 'text', 'kau', 'very', 'may', 'pretty', 'already', 'qué', 'día', 'money', 'name', 'hari', 'wow', 'black', 'vamos', 'nao', 'head', 'trying', 'lot', 'ان', 'mad', 'playing', '✌', 'own', 'friday', 'estar', 'yet', 'une', 'mana', 'لي', 'car', 'once', 'nem', 'summer', 'fan', 'tudo', 'sexy', 'sea', 'excited', 'far', 'lost', 'sei', 'sabe', 'picture', 'dice', 'km', 'fast', 'moi', 'anda', 'noche', 'relationship']\n"
     ]
    }
   ],
   "source": [
    "# let's get some most popular words from model:\n",
    "n_words = 1000\n",
    "words = sorted(model.vocab.keys(), \n",
    "               key=lambda word: model.vocab[word].count, # sort by number of word occurencies\n",
    "               reverse=True)[:n_words]\n",
    "\n",
    "print(words[::10])"
   ]
  },
  {
   "cell_type": "code",
   "execution_count": 11,
   "metadata": {
    "colab": {},
    "colab_type": "code",
    "id": "FStm52npiL3d"
   },
   "outputs": [],
   "source": [
    "# get embeddings for those words\n",
    "word_vectors = [model.get_vector(word) for word in words]"
   ]
  },
  {
   "cell_type": "markdown",
   "metadata": {
    "colab_type": "text",
    "id": "Z0M2b2Weim4k"
   },
   "source": [
    "For vectors visualization we need to reduce dimensionality of vectors to 2 (or 3). We'll use **PCA** for that\n",
    "\n",
    "https://scikit-learn.org/stable/modules/generated/sklearn.decomposition.PCA.html"
   ]
  },
  {
   "cell_type": "code",
   "execution_count": 12,
   "metadata": {
    "colab": {},
    "colab_type": "code",
    "id": "p3F9_sQmiaPx"
   },
   "outputs": [],
   "source": [
    "from sklearn.decomposition import PCA\n",
    "pca = PCA(n_components=2)\n",
    "pca.fit(word_vectors)\n",
    "word_vectors_pca = pca.transform(word_vectors)"
   ]
  },
  {
   "cell_type": "markdown",
   "metadata": {
    "colab_type": "text",
    "id": "UXC_Tzz9kkGL"
   },
   "source": [
    "Also let's normalize vectors we got from PCA for better visibility\n",
    "\n",
    "We already did normalization by hand in one of the first homeworks in our course, but for now let's use sklearn api:\n",
    "\n",
    "https://scikit-learn.org/stable/modules/generated/sklearn.preprocessing.StandardScaler.html"
   ]
  },
  {
   "cell_type": "code",
   "execution_count": 13,
   "metadata": {
    "colab": {},
    "colab_type": "code",
    "id": "7AgGtiMQibR3"
   },
   "outputs": [],
   "source": [
    "from sklearn.preprocessing import StandardScaler\n",
    "ss = StandardScaler().fit(word_vectors_pca)\n",
    "word_vectors_pca = ss.transform(word_vectors_pca)"
   ]
  },
  {
   "cell_type": "markdown",
   "metadata": {
    "colab_type": "text",
    "id": "dd1aScI_DNSP"
   },
   "source": [
    "Finally we are to draw an (interactive!) space of embeddings, using function below:"
   ]
  },
  {
   "cell_type": "code",
   "execution_count": 17,
   "metadata": {
    "colab": {},
    "colab_type": "code",
    "id": "5YL3o6g2jsql"
   },
   "outputs": [
    {
     "data": {
      "text/html": [
       "\n",
       "    <div class=\"bk-root\">\n",
       "        <a href=\"https://bokeh.pydata.org\" target=\"_blank\" class=\"bk-logo bk-logo-small bk-logo-notebook\"></a>\n",
       "        <span id=\"1109\">Loading BokehJS ...</span>\n",
       "    </div>"
      ]
     },
     "metadata": {},
     "output_type": "display_data"
    },
    {
     "data": {
      "application/javascript": [
       "\n",
       "(function(root) {\n",
       "  function now() {\n",
       "    return new Date();\n",
       "  }\n",
       "\n",
       "  var force = true;\n",
       "\n",
       "  if (typeof root._bokeh_onload_callbacks === \"undefined\" || force === true) {\n",
       "    root._bokeh_onload_callbacks = [];\n",
       "    root._bokeh_is_loading = undefined;\n",
       "  }\n",
       "\n",
       "  var JS_MIME_TYPE = 'application/javascript';\n",
       "  var HTML_MIME_TYPE = 'text/html';\n",
       "  var EXEC_MIME_TYPE = 'application/vnd.bokehjs_exec.v0+json';\n",
       "  var CLASS_NAME = 'output_bokeh rendered_html';\n",
       "\n",
       "  /**\n",
       "   * Render data to the DOM node\n",
       "   */\n",
       "  function render(props, node) {\n",
       "    var script = document.createElement(\"script\");\n",
       "    node.appendChild(script);\n",
       "  }\n",
       "\n",
       "  /**\n",
       "   * Handle when an output is cleared or removed\n",
       "   */\n",
       "  function handleClearOutput(event, handle) {\n",
       "    var cell = handle.cell;\n",
       "\n",
       "    var id = cell.output_area._bokeh_element_id;\n",
       "    var server_id = cell.output_area._bokeh_server_id;\n",
       "    // Clean up Bokeh references\n",
       "    if (id != null && id in Bokeh.index) {\n",
       "      Bokeh.index[id].model.document.clear();\n",
       "      delete Bokeh.index[id];\n",
       "    }\n",
       "\n",
       "    if (server_id !== undefined) {\n",
       "      // Clean up Bokeh references\n",
       "      var cmd = \"from bokeh.io.state import curstate; print(curstate().uuid_to_server['\" + server_id + \"'].get_sessions()[0].document.roots[0]._id)\";\n",
       "      cell.notebook.kernel.execute(cmd, {\n",
       "        iopub: {\n",
       "          output: function(msg) {\n",
       "            var id = msg.content.text.trim();\n",
       "            if (id in Bokeh.index) {\n",
       "              Bokeh.index[id].model.document.clear();\n",
       "              delete Bokeh.index[id];\n",
       "            }\n",
       "          }\n",
       "        }\n",
       "      });\n",
       "      // Destroy server and session\n",
       "      var cmd = \"import bokeh.io.notebook as ion; ion.destroy_server('\" + server_id + \"')\";\n",
       "      cell.notebook.kernel.execute(cmd);\n",
       "    }\n",
       "  }\n",
       "\n",
       "  /**\n",
       "   * Handle when a new output is added\n",
       "   */\n",
       "  function handleAddOutput(event, handle) {\n",
       "    var output_area = handle.output_area;\n",
       "    var output = handle.output;\n",
       "\n",
       "    // limit handleAddOutput to display_data with EXEC_MIME_TYPE content only\n",
       "    if ((output.output_type != \"display_data\") || (!output.data.hasOwnProperty(EXEC_MIME_TYPE))) {\n",
       "      return\n",
       "    }\n",
       "\n",
       "    var toinsert = output_area.element.find(\".\" + CLASS_NAME.split(' ')[0]);\n",
       "\n",
       "    if (output.metadata[EXEC_MIME_TYPE][\"id\"] !== undefined) {\n",
       "      toinsert[toinsert.length - 1].firstChild.textContent = output.data[JS_MIME_TYPE];\n",
       "      // store reference to embed id on output_area\n",
       "      output_area._bokeh_element_id = output.metadata[EXEC_MIME_TYPE][\"id\"];\n",
       "    }\n",
       "    if (output.metadata[EXEC_MIME_TYPE][\"server_id\"] !== undefined) {\n",
       "      var bk_div = document.createElement(\"div\");\n",
       "      bk_div.innerHTML = output.data[HTML_MIME_TYPE];\n",
       "      var script_attrs = bk_div.children[0].attributes;\n",
       "      for (var i = 0; i < script_attrs.length; i++) {\n",
       "        toinsert[toinsert.length - 1].firstChild.setAttribute(script_attrs[i].name, script_attrs[i].value);\n",
       "      }\n",
       "      // store reference to server id on output_area\n",
       "      output_area._bokeh_server_id = output.metadata[EXEC_MIME_TYPE][\"server_id\"];\n",
       "    }\n",
       "  }\n",
       "\n",
       "  function register_renderer(events, OutputArea) {\n",
       "\n",
       "    function append_mime(data, metadata, element) {\n",
       "      // create a DOM node to render to\n",
       "      var toinsert = this.create_output_subarea(\n",
       "        metadata,\n",
       "        CLASS_NAME,\n",
       "        EXEC_MIME_TYPE\n",
       "      );\n",
       "      this.keyboard_manager.register_events(toinsert);\n",
       "      // Render to node\n",
       "      var props = {data: data, metadata: metadata[EXEC_MIME_TYPE]};\n",
       "      render(props, toinsert[toinsert.length - 1]);\n",
       "      element.append(toinsert);\n",
       "      return toinsert\n",
       "    }\n",
       "\n",
       "    /* Handle when an output is cleared or removed */\n",
       "    events.on('clear_output.CodeCell', handleClearOutput);\n",
       "    events.on('delete.Cell', handleClearOutput);\n",
       "\n",
       "    /* Handle when a new output is added */\n",
       "    events.on('output_added.OutputArea', handleAddOutput);\n",
       "\n",
       "    /**\n",
       "     * Register the mime type and append_mime function with output_area\n",
       "     */\n",
       "    OutputArea.prototype.register_mime_type(EXEC_MIME_TYPE, append_mime, {\n",
       "      /* Is output safe? */\n",
       "      safe: true,\n",
       "      /* Index of renderer in `output_area.display_order` */\n",
       "      index: 0\n",
       "    });\n",
       "  }\n",
       "\n",
       "  // register the mime type if in Jupyter Notebook environment and previously unregistered\n",
       "  if (root.Jupyter !== undefined) {\n",
       "    var events = require('base/js/events');\n",
       "    var OutputArea = require('notebook/js/outputarea').OutputArea;\n",
       "\n",
       "    if (OutputArea.prototype.mime_types().indexOf(EXEC_MIME_TYPE) == -1) {\n",
       "      register_renderer(events, OutputArea);\n",
       "    }\n",
       "  }\n",
       "\n",
       "  \n",
       "  if (typeof (root._bokeh_timeout) === \"undefined\" || force === true) {\n",
       "    root._bokeh_timeout = Date.now() + 5000;\n",
       "    root._bokeh_failed_load = false;\n",
       "  }\n",
       "\n",
       "  var NB_LOAD_WARNING = {'data': {'text/html':\n",
       "     \"<div style='background-color: #fdd'>\\n\"+\n",
       "     \"<p>\\n\"+\n",
       "     \"BokehJS does not appear to have successfully loaded. If loading BokehJS from CDN, this \\n\"+\n",
       "     \"may be due to a slow or bad network connection. Possible fixes:\\n\"+\n",
       "     \"</p>\\n\"+\n",
       "     \"<ul>\\n\"+\n",
       "     \"<li>re-rerun `output_notebook()` to attempt to load from CDN again, or</li>\\n\"+\n",
       "     \"<li>use INLINE resources instead, as so:</li>\\n\"+\n",
       "     \"</ul>\\n\"+\n",
       "     \"<code>\\n\"+\n",
       "     \"from bokeh.resources import INLINE\\n\"+\n",
       "     \"output_notebook(resources=INLINE)\\n\"+\n",
       "     \"</code>\\n\"+\n",
       "     \"</div>\"}};\n",
       "\n",
       "  function display_loaded() {\n",
       "    var el = document.getElementById(\"1109\");\n",
       "    if (el != null) {\n",
       "      el.textContent = \"BokehJS is loading...\";\n",
       "    }\n",
       "    if (root.Bokeh !== undefined) {\n",
       "      if (el != null) {\n",
       "        el.textContent = \"BokehJS \" + root.Bokeh.version + \" successfully loaded.\";\n",
       "      }\n",
       "    } else if (Date.now() < root._bokeh_timeout) {\n",
       "      setTimeout(display_loaded, 100)\n",
       "    }\n",
       "  }\n",
       "\n",
       "\n",
       "  function run_callbacks() {\n",
       "    try {\n",
       "      root._bokeh_onload_callbacks.forEach(function(callback) {\n",
       "        if (callback != null)\n",
       "          callback();\n",
       "      });\n",
       "    } finally {\n",
       "      delete root._bokeh_onload_callbacks\n",
       "    }\n",
       "    console.debug(\"Bokeh: all callbacks have finished\");\n",
       "  }\n",
       "\n",
       "  function load_libs(css_urls, js_urls, callback) {\n",
       "    if (css_urls == null) css_urls = [];\n",
       "    if (js_urls == null) js_urls = [];\n",
       "\n",
       "    root._bokeh_onload_callbacks.push(callback);\n",
       "    if (root._bokeh_is_loading > 0) {\n",
       "      console.debug(\"Bokeh: BokehJS is being loaded, scheduling callback at\", now());\n",
       "      return null;\n",
       "    }\n",
       "    if (js_urls == null || js_urls.length === 0) {\n",
       "      run_callbacks();\n",
       "      return null;\n",
       "    }\n",
       "    console.debug(\"Bokeh: BokehJS not loaded, scheduling load and callback at\", now());\n",
       "    root._bokeh_is_loading = css_urls.length + js_urls.length;\n",
       "\n",
       "    function on_load() {\n",
       "      root._bokeh_is_loading--;\n",
       "      if (root._bokeh_is_loading === 0) {\n",
       "        console.debug(\"Bokeh: all BokehJS libraries/stylesheets loaded\");\n",
       "        run_callbacks()\n",
       "      }\n",
       "    }\n",
       "\n",
       "    function on_error() {\n",
       "      console.error(\"failed to load \" + url);\n",
       "    }\n",
       "\n",
       "    for (var i = 0; i < css_urls.length; i++) {\n",
       "      var url = css_urls[i];\n",
       "      const element = document.createElement(\"link\");\n",
       "      element.onload = on_load;\n",
       "      element.onerror = on_error;\n",
       "      element.rel = \"stylesheet\";\n",
       "      element.type = \"text/css\";\n",
       "      element.href = url;\n",
       "      console.debug(\"Bokeh: injecting link tag for BokehJS stylesheet: \", url);\n",
       "      document.body.appendChild(element);\n",
       "    }\n",
       "\n",
       "    for (var i = 0; i < js_urls.length; i++) {\n",
       "      var url = js_urls[i];\n",
       "      var element = document.createElement('script');\n",
       "      element.onload = on_load;\n",
       "      element.onerror = on_error;\n",
       "      element.async = false;\n",
       "      element.src = url;\n",
       "      console.debug(\"Bokeh: injecting script tag for BokehJS library: \", url);\n",
       "      document.head.appendChild(element);\n",
       "    }\n",
       "  };var element = document.getElementById(\"1109\");\n",
       "  if (element == null) {\n",
       "    console.error(\"Bokeh: ERROR: autoload.js configured with elementid '1109' but no matching script tag was found. \")\n",
       "    return false;\n",
       "  }\n",
       "\n",
       "  function inject_raw_css(css) {\n",
       "    const element = document.createElement(\"style\");\n",
       "    element.appendChild(document.createTextNode(css));\n",
       "    document.body.appendChild(element);\n",
       "  }\n",
       "\n",
       "  var js_urls = [\"https://cdn.pydata.org/bokeh/release/bokeh-1.3.4.min.js\", \"https://cdn.pydata.org/bokeh/release/bokeh-widgets-1.3.4.min.js\", \"https://cdn.pydata.org/bokeh/release/bokeh-tables-1.3.4.min.js\", \"https://cdn.pydata.org/bokeh/release/bokeh-gl-1.3.4.min.js\"];\n",
       "  var css_urls = [];\n",
       "\n",
       "  var inline_js = [\n",
       "    function(Bokeh) {\n",
       "      Bokeh.set_log_level(\"info\");\n",
       "    },\n",
       "    \n",
       "    function(Bokeh) {\n",
       "      \n",
       "    },\n",
       "    function(Bokeh) {} // ensure no trailing comma for IE\n",
       "  ];\n",
       "\n",
       "  function run_inline_js() {\n",
       "    \n",
       "    if ((root.Bokeh !== undefined) || (force === true)) {\n",
       "      for (var i = 0; i < inline_js.length; i++) {\n",
       "        inline_js[i].call(root, root.Bokeh);\n",
       "      }if (force === true) {\n",
       "        display_loaded();\n",
       "      }} else if (Date.now() < root._bokeh_timeout) {\n",
       "      setTimeout(run_inline_js, 100);\n",
       "    } else if (!root._bokeh_failed_load) {\n",
       "      console.log(\"Bokeh: BokehJS failed to load within specified timeout.\");\n",
       "      root._bokeh_failed_load = true;\n",
       "    } else if (force !== true) {\n",
       "      var cell = $(document.getElementById(\"1109\")).parents('.cell').data().cell;\n",
       "      cell.output_area.append_execute_result(NB_LOAD_WARNING)\n",
       "    }\n",
       "\n",
       "  }\n",
       "\n",
       "  if (root._bokeh_is_loading === 0) {\n",
       "    console.debug(\"Bokeh: BokehJS loaded, going straight to plotting\");\n",
       "    run_inline_js();\n",
       "  } else {\n",
       "    load_libs(css_urls, js_urls, function() {\n",
       "      console.debug(\"Bokeh: BokehJS plotting callback run at\", now());\n",
       "      run_inline_js();\n",
       "    });\n",
       "  }\n",
       "}(window));"
      ],
      "application/vnd.bokehjs_load.v0+json": "\n(function(root) {\n  function now() {\n    return new Date();\n  }\n\n  var force = true;\n\n  if (typeof root._bokeh_onload_callbacks === \"undefined\" || force === true) {\n    root._bokeh_onload_callbacks = [];\n    root._bokeh_is_loading = undefined;\n  }\n\n  \n\n  \n  if (typeof (root._bokeh_timeout) === \"undefined\" || force === true) {\n    root._bokeh_timeout = Date.now() + 5000;\n    root._bokeh_failed_load = false;\n  }\n\n  var NB_LOAD_WARNING = {'data': {'text/html':\n     \"<div style='background-color: #fdd'>\\n\"+\n     \"<p>\\n\"+\n     \"BokehJS does not appear to have successfully loaded. If loading BokehJS from CDN, this \\n\"+\n     \"may be due to a slow or bad network connection. Possible fixes:\\n\"+\n     \"</p>\\n\"+\n     \"<ul>\\n\"+\n     \"<li>re-rerun `output_notebook()` to attempt to load from CDN again, or</li>\\n\"+\n     \"<li>use INLINE resources instead, as so:</li>\\n\"+\n     \"</ul>\\n\"+\n     \"<code>\\n\"+\n     \"from bokeh.resources import INLINE\\n\"+\n     \"output_notebook(resources=INLINE)\\n\"+\n     \"</code>\\n\"+\n     \"</div>\"}};\n\n  function display_loaded() {\n    var el = document.getElementById(\"1109\");\n    if (el != null) {\n      el.textContent = \"BokehJS is loading...\";\n    }\n    if (root.Bokeh !== undefined) {\n      if (el != null) {\n        el.textContent = \"BokehJS \" + root.Bokeh.version + \" successfully loaded.\";\n      }\n    } else if (Date.now() < root._bokeh_timeout) {\n      setTimeout(display_loaded, 100)\n    }\n  }\n\n\n  function run_callbacks() {\n    try {\n      root._bokeh_onload_callbacks.forEach(function(callback) {\n        if (callback != null)\n          callback();\n      });\n    } finally {\n      delete root._bokeh_onload_callbacks\n    }\n    console.debug(\"Bokeh: all callbacks have finished\");\n  }\n\n  function load_libs(css_urls, js_urls, callback) {\n    if (css_urls == null) css_urls = [];\n    if (js_urls == null) js_urls = [];\n\n    root._bokeh_onload_callbacks.push(callback);\n    if (root._bokeh_is_loading > 0) {\n      console.debug(\"Bokeh: BokehJS is being loaded, scheduling callback at\", now());\n      return null;\n    }\n    if (js_urls == null || js_urls.length === 0) {\n      run_callbacks();\n      return null;\n    }\n    console.debug(\"Bokeh: BokehJS not loaded, scheduling load and callback at\", now());\n    root._bokeh_is_loading = css_urls.length + js_urls.length;\n\n    function on_load() {\n      root._bokeh_is_loading--;\n      if (root._bokeh_is_loading === 0) {\n        console.debug(\"Bokeh: all BokehJS libraries/stylesheets loaded\");\n        run_callbacks()\n      }\n    }\n\n    function on_error() {\n      console.error(\"failed to load \" + url);\n    }\n\n    for (var i = 0; i < css_urls.length; i++) {\n      var url = css_urls[i];\n      const element = document.createElement(\"link\");\n      element.onload = on_load;\n      element.onerror = on_error;\n      element.rel = \"stylesheet\";\n      element.type = \"text/css\";\n      element.href = url;\n      console.debug(\"Bokeh: injecting link tag for BokehJS stylesheet: \", url);\n      document.body.appendChild(element);\n    }\n\n    for (var i = 0; i < js_urls.length; i++) {\n      var url = js_urls[i];\n      var element = document.createElement('script');\n      element.onload = on_load;\n      element.onerror = on_error;\n      element.async = false;\n      element.src = url;\n      console.debug(\"Bokeh: injecting script tag for BokehJS library: \", url);\n      document.head.appendChild(element);\n    }\n  };var element = document.getElementById(\"1109\");\n  if (element == null) {\n    console.error(\"Bokeh: ERROR: autoload.js configured with elementid '1109' but no matching script tag was found. \")\n    return false;\n  }\n\n  function inject_raw_css(css) {\n    const element = document.createElement(\"style\");\n    element.appendChild(document.createTextNode(css));\n    document.body.appendChild(element);\n  }\n\n  var js_urls = [\"https://cdn.pydata.org/bokeh/release/bokeh-1.3.4.min.js\", \"https://cdn.pydata.org/bokeh/release/bokeh-widgets-1.3.4.min.js\", \"https://cdn.pydata.org/bokeh/release/bokeh-tables-1.3.4.min.js\", \"https://cdn.pydata.org/bokeh/release/bokeh-gl-1.3.4.min.js\"];\n  var css_urls = [];\n\n  var inline_js = [\n    function(Bokeh) {\n      Bokeh.set_log_level(\"info\");\n    },\n    \n    function(Bokeh) {\n      \n    },\n    function(Bokeh) {} // ensure no trailing comma for IE\n  ];\n\n  function run_inline_js() {\n    \n    if ((root.Bokeh !== undefined) || (force === true)) {\n      for (var i = 0; i < inline_js.length; i++) {\n        inline_js[i].call(root, root.Bokeh);\n      }if (force === true) {\n        display_loaded();\n      }} else if (Date.now() < root._bokeh_timeout) {\n      setTimeout(run_inline_js, 100);\n    } else if (!root._bokeh_failed_load) {\n      console.log(\"Bokeh: BokehJS failed to load within specified timeout.\");\n      root._bokeh_failed_load = true;\n    } else if (force !== true) {\n      var cell = $(document.getElementById(\"1109\")).parents('.cell').data().cell;\n      cell.output_area.append_execute_result(NB_LOAD_WARNING)\n    }\n\n  }\n\n  if (root._bokeh_is_loading === 0) {\n    console.debug(\"Bokeh: BokehJS loaded, going straight to plotting\");\n    run_inline_js();\n  } else {\n    load_libs(css_urls, js_urls, function() {\n      console.debug(\"Bokeh: BokehJS plotting callback run at\", now());\n      run_inline_js();\n    });\n  }\n}(window));"
     },
     "metadata": {},
     "output_type": "display_data"
    },
    {
     "data": {
      "text/html": [
       "\n",
       "\n",
       "\n",
       "\n",
       "\n",
       "\n",
       "  <div class=\"bk-root\" id=\"707b155a-e7ae-49db-8b38-85b9e855ef34\" data-root-id=\"1111\"></div>\n"
      ]
     },
     "metadata": {},
     "output_type": "display_data"
    },
    {
     "data": {
      "application/javascript": [
       "(function(root) {\n",
       "  function embed_document(root) {\n",
       "    \n",
       "  var docs_json = {\"0acaa54a-cbf4-426e-b394-85488eb078be\":{\"roots\":{\"references\":[{\"attributes\":{\"below\":[{\"id\":\"1120\",\"type\":\"LinearAxis\"}],\"center\":[{\"id\":\"1124\",\"type\":\"Grid\"},{\"id\":\"1129\",\"type\":\"Grid\"}],\"left\":[{\"id\":\"1125\",\"type\":\"LinearAxis\"}],\"plot_height\":400,\"renderers\":[{\"id\":\"1146\",\"type\":\"GlyphRenderer\"}],\"title\":{\"id\":\"1160\",\"type\":\"Title\"},\"toolbar\":{\"id\":\"1136\",\"type\":\"Toolbar\"},\"x_range\":{\"id\":\"1112\",\"type\":\"DataRange1d\"},\"x_scale\":{\"id\":\"1116\",\"type\":\"LinearScale\"},\"y_range\":{\"id\":\"1114\",\"type\":\"DataRange1d\"},\"y_scale\":{\"id\":\"1118\",\"type\":\"LinearScale\"}},\"id\":\"1111\",\"subtype\":\"Figure\",\"type\":\"Plot\"},{\"attributes\":{},\"id\":\"1164\",\"type\":\"BasicTickFormatter\"},{\"attributes\":{\"dimension\":1,\"ticker\":{\"id\":\"1126\",\"type\":\"BasicTicker\"}},\"id\":\"1129\",\"type\":\"Grid\"},{\"attributes\":{\"data_source\":{\"id\":\"1110\",\"type\":\"ColumnDataSource\"},\"glyph\":{\"id\":\"1144\",\"type\":\"Scatter\"},\"hover_glyph\":null,\"muted_glyph\":null,\"nonselection_glyph\":{\"id\":\"1145\",\"type\":\"Scatter\"},\"selection_glyph\":null,\"view\":{\"id\":\"1147\",\"type\":\"CDSView\"}},\"id\":\"1146\",\"type\":\"GlyphRenderer\"},{\"attributes\":{},\"id\":\"1126\",\"type\":\"BasicTicker\"},{\"attributes\":{\"bottom_units\":\"screen\",\"fill_alpha\":{\"value\":0.5},\"fill_color\":{\"value\":\"lightgrey\"},\"left_units\":\"screen\",\"level\":\"overlay\",\"line_alpha\":{\"value\":1.0},\"line_color\":{\"value\":\"black\"},\"line_dash\":[4,4],\"line_width\":{\"value\":2},\"render_mode\":\"css\",\"right_units\":\"screen\",\"top_units\":\"screen\"},\"id\":\"1165\",\"type\":\"BoxAnnotation\"},{\"attributes\":{\"formatter\":{\"id\":\"1162\",\"type\":\"BasicTickFormatter\"},\"ticker\":{\"id\":\"1126\",\"type\":\"BasicTicker\"}},\"id\":\"1125\",\"type\":\"LinearAxis\"},{\"attributes\":{\"formatter\":{\"id\":\"1164\",\"type\":\"BasicTickFormatter\"},\"ticker\":{\"id\":\"1121\",\"type\":\"BasicTicker\"}},\"id\":\"1120\",\"type\":\"LinearAxis\"},{\"attributes\":{},\"id\":\"1116\",\"type\":\"LinearScale\"},{\"attributes\":{\"text\":\"\"},\"id\":\"1160\",\"type\":\"Title\"},{\"attributes\":{},\"id\":\"1134\",\"type\":\"ResetTool\"},{\"attributes\":{\"callback\":null},\"id\":\"1112\",\"type\":\"DataRange1d\"},{\"attributes\":{},\"id\":\"1131\",\"type\":\"WheelZoomTool\"},{\"attributes\":{},\"id\":\"1162\",\"type\":\"BasicTickFormatter\"},{\"attributes\":{\"active_drag\":\"auto\",\"active_inspect\":\"auto\",\"active_multi\":null,\"active_scroll\":{\"id\":\"1131\",\"type\":\"WheelZoomTool\"},\"active_tap\":\"auto\",\"tools\":[{\"id\":\"1130\",\"type\":\"PanTool\"},{\"id\":\"1131\",\"type\":\"WheelZoomTool\"},{\"id\":\"1132\",\"type\":\"BoxZoomTool\"},{\"id\":\"1133\",\"type\":\"SaveTool\"},{\"id\":\"1134\",\"type\":\"ResetTool\"},{\"id\":\"1135\",\"type\":\"HelpTool\"},{\"id\":\"1148\",\"type\":\"HoverTool\"}]},\"id\":\"1136\",\"type\":\"Toolbar\"},{\"attributes\":{\"fill_alpha\":{\"value\":0.25},\"fill_color\":{\"field\":\"color\"},\"line_alpha\":{\"value\":0.25},\"line_color\":{\"field\":\"color\"},\"size\":{\"units\":\"screen\",\"value\":10},\"x\":{\"field\":\"x\"},\"y\":{\"field\":\"y\"}},\"id\":\"1144\",\"type\":\"Scatter\"},{\"attributes\":{\"ticker\":{\"id\":\"1121\",\"type\":\"BasicTicker\"}},\"id\":\"1124\",\"type\":\"Grid\"},{\"attributes\":{},\"id\":\"1118\",\"type\":\"LinearScale\"},{\"attributes\":{},\"id\":\"1133\",\"type\":\"SaveTool\"},{\"attributes\":{},\"id\":\"1121\",\"type\":\"BasicTicker\"},{\"attributes\":{},\"id\":\"1135\",\"type\":\"HelpTool\"},{\"attributes\":{},\"id\":\"1130\",\"type\":\"PanTool\"},{\"attributes\":{\"callback\":null},\"id\":\"1114\",\"type\":\"DataRange1d\"},{\"attributes\":{\"overlay\":{\"id\":\"1165\",\"type\":\"BoxAnnotation\"}},\"id\":\"1132\",\"type\":\"BoxZoomTool\"},{\"attributes\":{\"callback\":null,\"data\":{\"color\":[\"blue\",\"blue\",\"blue\",\"blue\",\"blue\",\"blue\",\"blue\",\"blue\",\"blue\",\"blue\",\"blue\",\"blue\",\"blue\",\"blue\",\"blue\",\"blue\",\"blue\",\"blue\",\"blue\",\"blue\",\"blue\",\"blue\",\"blue\",\"blue\",\"blue\",\"blue\",\"blue\",\"blue\",\"blue\",\"blue\",\"blue\",\"blue\",\"blue\",\"blue\",\"blue\",\"blue\",\"blue\",\"blue\",\"blue\",\"blue\",\"blue\",\"blue\",\"blue\",\"blue\",\"blue\",\"blue\",\"blue\",\"blue\",\"blue\",\"blue\",\"blue\",\"blue\",\"blue\",\"blue\",\"blue\",\"blue\",\"blue\",\"blue\",\"blue\",\"blue\",\"blue\",\"blue\",\"blue\",\"blue\",\"blue\",\"blue\",\"blue\",\"blue\",\"blue\",\"blue\",\"blue\",\"blue\",\"blue\",\"blue\",\"blue\",\"blue\",\"blue\",\"blue\",\"blue\",\"blue\",\"blue\",\"blue\",\"blue\",\"blue\",\"blue\",\"blue\",\"blue\",\"blue\",\"blue\",\"blue\",\"blue\",\"blue\",\"blue\",\"blue\",\"blue\",\"blue\",\"blue\",\"blue\",\"blue\",\"blue\",\"blue\",\"blue\",\"blue\",\"blue\",\"blue\",\"blue\",\"blue\",\"blue\",\"blue\",\"blue\",\"blue\",\"blue\",\"blue\",\"blue\",\"blue\",\"blue\",\"blue\",\"blue\",\"blue\",\"blue\",\"blue\",\"blue\",\"blue\",\"blue\",\"blue\",\"blue\",\"blue\",\"blue\",\"blue\",\"blue\",\"blue\",\"blue\",\"blue\",\"blue\",\"blue\",\"blue\",\"blue\",\"blue\",\"blue\",\"blue\",\"blue\",\"blue\",\"blue\",\"blue\",\"blue\",\"blue\",\"blue\",\"blue\",\"blue\",\"blue\",\"blue\",\"blue\",\"blue\",\"blue\",\"blue\",\"blue\",\"blue\",\"blue\",\"blue\",\"blue\",\"blue\",\"blue\",\"blue\",\"blue\",\"blue\",\"blue\",\"blue\",\"blue\",\"blue\",\"blue\",\"blue\",\"blue\",\"blue\",\"blue\",\"blue\",\"blue\",\"blue\",\"blue\",\"blue\",\"blue\",\"blue\",\"blue\",\"blue\",\"blue\",\"blue\",\"blue\",\"blue\",\"blue\",\"blue\",\"blue\",\"blue\",\"blue\",\"blue\",\"blue\",\"blue\",\"blue\",\"blue\",\"blue\",\"blue\",\"blue\",\"blue\",\"blue\",\"blue\",\"blue\",\"blue\",\"blue\",\"blue\",\"blue\",\"blue\",\"blue\",\"blue\",\"blue\",\"blue\",\"blue\",\"blue\",\"blue\",\"blue\",\"blue\",\"blue\",\"blue\",\"blue\",\"blue\",\"blue\",\"blue\",\"blue\",\"blue\",\"blue\",\"blue\",\"blue\",\"blue\",\"blue\",\"blue\",\"blue\",\"blue\",\"blue\",\"blue\",\"blue\",\"blue\",\"blue\",\"blue\",\"blue\",\"blue\",\"blue\",\"blue\",\"blue\",\"blue\",\"blue\",\"blue\",\"blue\",\"blue\",\"blue\",\"blue\",\"blue\",\"blue\",\"blue\",\"blue\",\"blue\",\"blue\",\"blue\",\"blue\",\"blue\",\"blue\",\"blue\",\"blue\",\"blue\",\"blue\",\"blue\",\"blue\",\"blue\",\"blue\",\"blue\",\"blue\",\"blue\",\"blue\",\"blue\",\"blue\",\"blue\",\"blue\",\"blue\",\"blue\",\"blue\",\"blue\",\"blue\",\"blue\",\"blue\",\"blue\",\"blue\",\"blue\",\"blue\",\"blue\",\"blue\",\"blue\",\"blue\",\"blue\",\"blue\",\"blue\",\"blue\",\"blue\",\"blue\",\"blue\",\"blue\",\"blue\",\"blue\",\"blue\",\"blue\",\"blue\",\"blue\",\"blue\",\"blue\",\"blue\",\"blue\",\"blue\",\"blue\",\"blue\",\"blue\",\"blue\",\"blue\",\"blue\",\"blue\",\"blue\",\"blue\",\"blue\",\"blue\",\"blue\",\"blue\",\"blue\",\"blue\",\"blue\",\"blue\",\"blue\",\"blue\",\"blue\",\"blue\",\"blue\",\"blue\",\"blue\",\"blue\",\"blue\",\"blue\",\"blue\",\"blue\",\"blue\",\"blue\",\"blue\",\"blue\",\"blue\",\"blue\",\"blue\",\"blue\",\"blue\",\"blue\",\"blue\",\"blue\",\"blue\",\"blue\",\"blue\",\"blue\",\"blue\",\"blue\",\"blue\",\"blue\",\"blue\",\"blue\",\"blue\",\"blue\",\"blue\",\"blue\",\"blue\",\"blue\",\"blue\",\"blue\",\"blue\",\"blue\",\"blue\",\"blue\",\"blue\",\"blue\",\"blue\",\"blue\",\"blue\",\"blue\",\"blue\",\"blue\",\"blue\",\"blue\",\"blue\",\"blue\",\"blue\",\"blue\",\"blue\",\"blue\",\"blue\",\"blue\",\"blue\",\"blue\",\"blue\",\"blue\",\"blue\",\"blue\",\"blue\",\"blue\",\"blue\",\"blue\",\"blue\",\"blue\",\"blue\",\"blue\",\"blue\",\"blue\",\"blue\",\"blue\",\"blue\",\"blue\",\"blue\",\"blue\",\"blue\",\"blue\",\"blue\",\"blue\",\"blue\",\"blue\",\"blue\",\"blue\",\"blue\",\"blue\",\"blue\",\"blue\",\"blue\",\"blue\",\"blue\",\"blue\",\"blue\",\"blue\",\"blue\",\"blue\",\"blue\",\"blue\",\"blue\",\"blue\",\"blue\",\"blue\",\"blue\",\"blue\",\"blue\",\"blue\",\"blue\",\"blue\",\"blue\",\"blue\",\"blue\",\"blue\",\"blue\",\"blue\",\"blue\",\"blue\",\"blue\",\"blue\",\"blue\",\"blue\",\"blue\",\"blue\",\"blue\",\"blue\",\"blue\",\"blue\",\"blue\",\"blue\",\"blue\",\"blue\",\"blue\",\"blue\",\"blue\",\"blue\",\"blue\",\"blue\",\"blue\",\"blue\",\"blue\",\"blue\",\"blue\",\"blue\",\"blue\",\"blue\",\"blue\",\"blue\",\"blue\",\"blue\",\"blue\",\"blue\",\"blue\",\"blue\",\"blue\",\"blue\",\"blue\",\"blue\",\"blue\",\"blue\",\"blue\",\"blue\",\"blue\",\"blue\",\"blue\",\"blue\",\"blue\",\"blue\",\"blue\",\"blue\",\"blue\",\"blue\",\"blue\",\"blue\",\"blue\",\"blue\",\"blue\",\"blue\",\"blue\",\"blue\",\"blue\",\"blue\",\"blue\",\"blue\",\"blue\",\"blue\",\"blue\",\"blue\",\"blue\",\"blue\",\"blue\",\"blue\",\"blue\",\"blue\",\"blue\",\"blue\",\"blue\",\"blue\",\"blue\",\"blue\",\"blue\",\"blue\",\"blue\",\"blue\",\"blue\",\"blue\",\"blue\",\"blue\",\"blue\",\"blue\",\"blue\",\"blue\",\"blue\",\"blue\",\"blue\",\"blue\",\"blue\",\"blue\",\"blue\",\"blue\",\"blue\",\"blue\",\"blue\",\"blue\",\"blue\",\"blue\",\"blue\",\"blue\",\"blue\",\"blue\",\"blue\",\"blue\",\"blue\",\"blue\",\"blue\",\"blue\",\"blue\",\"blue\",\"blue\",\"blue\",\"blue\",\"blue\",\"blue\",\"blue\",\"blue\",\"blue\",\"blue\",\"blue\",\"blue\",\"blue\",\"blue\",\"blue\",\"blue\",\"blue\",\"blue\",\"blue\",\"blue\",\"blue\",\"blue\",\"blue\",\"blue\",\"blue\",\"blue\",\"blue\",\"blue\",\"blue\",\"blue\",\"blue\",\"blue\",\"blue\",\"blue\",\"blue\",\"blue\",\"blue\",\"blue\",\"blue\",\"blue\",\"blue\",\"blue\",\"blue\",\"blue\",\"blue\",\"blue\",\"blue\",\"blue\",\"blue\",\"blue\",\"blue\",\"blue\",\"blue\",\"blue\",\"blue\",\"blue\",\"blue\",\"blue\",\"blue\",\"blue\",\"blue\",\"blue\",\"blue\",\"blue\",\"blue\",\"blue\",\"blue\",\"blue\",\"blue\",\"blue\",\"blue\",\"blue\",\"blue\",\"blue\",\"blue\",\"blue\",\"blue\",\"blue\",\"blue\",\"blue\",\"blue\",\"blue\",\"blue\",\"blue\",\"blue\",\"blue\",\"blue\",\"blue\",\"blue\",\"blue\",\"blue\",\"blue\",\"blue\",\"blue\",\"blue\",\"blue\",\"blue\",\"blue\",\"blue\",\"blue\",\"blue\",\"blue\",\"blue\",\"blue\",\"blue\",\"blue\",\"blue\",\"blue\",\"blue\",\"blue\",\"blue\",\"blue\",\"blue\",\"blue\",\"blue\",\"blue\",\"blue\",\"blue\",\"blue\",\"blue\",\"blue\",\"blue\",\"blue\",\"blue\",\"blue\",\"blue\",\"blue\",\"blue\",\"blue\",\"blue\",\"blue\",\"blue\",\"blue\",\"blue\",\"blue\",\"blue\",\"blue\",\"blue\",\"blue\",\"blue\",\"blue\",\"blue\",\"blue\",\"blue\",\"blue\",\"blue\",\"blue\",\"blue\",\"blue\",\"blue\",\"blue\",\"blue\",\"blue\",\"blue\",\"blue\",\"blue\",\"blue\",\"blue\",\"blue\",\"blue\",\"blue\",\"blue\",\"blue\",\"blue\",\"blue\",\"blue\",\"blue\",\"blue\",\"blue\",\"blue\",\"blue\",\"blue\",\"blue\",\"blue\",\"blue\",\"blue\",\"blue\",\"blue\",\"blue\",\"blue\",\"blue\",\"blue\",\"blue\",\"blue\",\"blue\",\"blue\",\"blue\",\"blue\",\"blue\",\"blue\",\"blue\",\"blue\",\"blue\",\"blue\",\"blue\",\"blue\",\"blue\",\"blue\",\"blue\",\"blue\",\"blue\",\"blue\",\"blue\",\"blue\",\"blue\",\"blue\",\"blue\",\"blue\",\"blue\",\"blue\",\"blue\",\"blue\",\"blue\",\"blue\",\"blue\",\"blue\",\"blue\",\"blue\",\"blue\",\"blue\",\"blue\",\"blue\",\"blue\",\"blue\",\"blue\",\"blue\",\"blue\",\"blue\",\"blue\",\"blue\",\"blue\",\"blue\",\"blue\",\"blue\",\"blue\",\"blue\",\"blue\",\"blue\",\"blue\",\"blue\",\"blue\",\"blue\",\"blue\",\"blue\",\"blue\",\"blue\",\"blue\",\"blue\",\"blue\",\"blue\",\"blue\",\"blue\",\"blue\",\"blue\",\"blue\",\"blue\",\"blue\",\"blue\",\"blue\",\"blue\",\"blue\",\"blue\",\"blue\",\"blue\",\"blue\",\"blue\",\"blue\",\"blue\",\"blue\",\"blue\",\"blue\",\"blue\",\"blue\",\"blue\",\"blue\",\"blue\",\"blue\",\"blue\",\"blue\",\"blue\",\"blue\",\"blue\",\"blue\",\"blue\",\"blue\",\"blue\",\"blue\",\"blue\",\"blue\",\"blue\",\"blue\",\"blue\",\"blue\",\"blue\",\"blue\",\"blue\",\"blue\",\"blue\",\"blue\",\"blue\",\"blue\",\"blue\",\"blue\",\"blue\",\"blue\",\"blue\",\"blue\",\"blue\",\"blue\",\"blue\",\"blue\",\"blue\",\"blue\",\"blue\",\"blue\",\"blue\",\"blue\",\"blue\",\"blue\",\"blue\",\"blue\",\"blue\",\"blue\",\"blue\",\"blue\",\"blue\",\"blue\",\"blue\",\"blue\",\"blue\",\"blue\",\"blue\",\"blue\",\"blue\",\"blue\",\"blue\",\"blue\",\"blue\",\"blue\",\"blue\",\"blue\",\"blue\",\"blue\",\"blue\",\"blue\",\"blue\",\"blue\",\"blue\",\"blue\",\"blue\",\"blue\",\"blue\",\"blue\",\"blue\",\"blue\",\"blue\",\"blue\",\"blue\",\"blue\",\"blue\",\"blue\",\"blue\",\"blue\",\"blue\",\"blue\",\"blue\",\"blue\",\"blue\",\"blue\",\"blue\",\"blue\",\"blue\",\"blue\",\"blue\",\"blue\",\"blue\",\"blue\",\"blue\",\"blue\",\"blue\",\"blue\",\"blue\",\"blue\",\"blue\",\"blue\",\"blue\",\"blue\",\"blue\",\"blue\",\"blue\",\"blue\",\"blue\",\"blue\",\"blue\",\"blue\",\"blue\",\"blue\",\"blue\",\"blue\",\"blue\",\"blue\",\"blue\",\"blue\",\"blue\",\"blue\",\"blue\",\"blue\",\"blue\",\"blue\",\"blue\",\"blue\",\"blue\",\"blue\",\"blue\",\"blue\",\"blue\",\"blue\",\"blue\",\"blue\",\"blue\",\"blue\",\"blue\",\"blue\",\"blue\",\"blue\",\"blue\"],\"token\":[\"<user>\",\".\",\":\",\"rt\",\",\",\"<repeat>\",\"<hashtag>\",\"<number>\",\"<url>\",\"!\",\"i\",\"a\",\"\\\"\",\"the\",\"?\",\"you\",\"to\",\"(\",\"<allcaps>\",\"<elong>\",\")\",\"me\",\"de\",\"<smile>\",\"\\uff01\",\"que\",\"and\",\"\\u3002\",\"-\",\"my\",\"no\",\"\\u3001\",\"is\",\"it\",\"\\u2026\",\"in\",\"n\",\"for\",\"/\",\"of\",\"la\",\"'s\",\"*\",\"do\",\"n't\",\"that\",\"on\",\"y\",\"'\",\"e\",\"o\",\"u\",\"en\",\"this\",\"el\",\"so\",\"be\",\"'m\",\"with\",\"just\",\">\",\"your\",\"^\",\"like\",\"have\",\"te\",\"at\",\"\\uff1f\",\"love\",\"se\",\"are\",\"<\",\"m\",\"r\",\"if\",\"all\",\"b\",\"\\u30fb\",\"not\",\"but\",\"we\",\"es\",\"ya\",\"&\",\"follow\",\"up\",\"what\",\"get\",\"lol\",\"un\",\"\\u2665\",\"lo\",\"when\",\"was\",\"\\u201c\",\"\\u201d\",\"one\",\"por\",\"si\",\"out\",\"_\",\"mi\",\"can\",\"<sadface>\",\"\\u0645\\u0646\",\"\\u2661\",\"\\u00b4\",\"he\",\"con\",\"they\",\"now\",\"go\",\"\\u060c\",\"para\",\"los\",\"know\",\"haha\",\"good\",\"tu\",\"back\",\"~\",\"about\",\"new\",\";\",\"as\",\"day\",\"how\",\"who\",\"will\",\"want\",\"people\",\"yo\",\"eu\",\"from\",\"di\",\"time\",\"<heart>\",\"s\",\"aku\",\"da\",\"'re\",\"<lolface>\",\"una\",\"got\",\"las\",\"more\",\"x\",\"she\",\"today\",\"\\uff08\",\">>\",\"k\",\"by\",\"or\",\"\\u0641\\u064a\",\"\\uff65\",\"too\",\"le\",\"\\u00e9\",\"|\",\"[\",\"\\uff09\",\"]\",\"see\",\"why\",\"yg\",\"ca\",\"como\",\"her\",\"\\u2014\",\"q\",\"need\",\"an\",\"na\",\"\\u7b11\",\"there\",\"\\u03c9\",\"happy\",\"im\",\"mas\",\"je\",\"life\",\"really\",\"make\",\"yang\",\"shit\",\"think\",\"t\",\"\\u2764\",\"n\\u00e3o\",\"never\",\"some\",\"\\uff5e\",\"oh\",\"\\u2605\",\"did\",\"would\",\"del\",\"`\",\"d\",\"please\",\"via\",\"much\",\"fuck\",\"al\",\"dia\",\"$\",\"\\u0648\",\"right\",\"best\",\"c\",\"going\",\"\\u0627\\u0644\\u0644\\u0647\",\"pero\",\"only\",\"has\",\"\\u266a\",\"'ll\",\"twitter\",\"=\",\"hahaha\",\"its\",\"nn\",\"\\uff40\",\"\\u00bf\",\"am\",\"say\",\"<neutralface>\",\"them\",\"here\",\"\\u0644\\u0627\",\"off\",\"still\",\"dan\",\"+\",\"night\",\"w\",\"ada\",\"someone\",\"even\",\"then\",\"\\u2606\",\"ni\",\"come\",\"com\",\"always\",\"man\",\"'ve\",\"been\",\"his\",\"itu\",\"\\u0639\\u0644\\u0649\",\"-_-\",\"\\u263a\",\"over\",\"um\",\"\\u0645\\u0627\",\"hate\",\"girl\",\"ai\",\"had\",\"pra\",\"todo\",\"mais\",\"feel\",\"let\",\"ini\",\"because\",\"\\uff9f\",\"thanks\",\"ah\",\"way\",\"ever\",\"look\",\"tweet\",\"followers\",\"should\",\"our\",\"xd\",\"aja\",\"esta\",\"school\",\"him\",\"ser\",\"take\",\"than\",\"video\",\"em\",\"last\",\"wanna\",\"does\",\"us\",\"miss\",\"l\",\"ga\",\"better\",\"well\",\"could\",\"\\u25bd\",\"%\",\"apa\",\"cuando\",\"team\",\"\\u2714\",\"@\",\"ok\",\"\\u061f\",\"\\u2022\",\"vida\",\"quiero\",\"les\",\"being\",\"real\",\"down\",\"kamu\",\"everyone\",\"gonna\",\"live\",\"tonight\",\"yes\",\"work\",\"ass\",\"retweet\",\"nada\",\"sama\",\"first\",\"<<\",\"photo\",\"tomorrow\",\"where\",\"god\",\"son\",\"ke\",\"ta\",\"f\",\"home\",\"lagi\",\"thank\",\"birthday\",\"\\u2588\",\"ha\",\"great\",\"lmao\",\"omg\",\"morning\",\"m\\u00e1s\",\"mau\",\"baby\",\"dont\",\"\\uff61\",\"their\",\"p\",\"things\",\"game\",\"pas\",\"bad\",\"year\",\"yeah\",\"su\",\"bitch\",\"\\u0432\",\"stop\",\"hoy\",\"something\",\"meu\",\"tak\",\"gak\",\"world\",\"amor\",\"h\",\"\\\\\",\"ver\",\"\\uff1b\",\"porque\",\"give\",\"these\",\"\\u0627\\u0644\\u0644\\u0647\\u0645\",\"were\",\"hay\",\"sleep\",\"gue\",\"every\",\"friends\",\"uma\",\"tell\",\"amo\",\"vou\",\"bien\",\"\\u00a1\",\"again\",\"\\uff3e\",\"\\uff0f\",\"done\",\"after\",\"todos\",\"girls\",\"guys\",\"getting\",\"big\",\"wait\",\"justin\",\"eh\",\"\\u2192\",\"kan\",\"kita\",\"jajaja\",\"wish\",\"said\",\"fucking\",\"show\",\"thing\",\"next\",\"voc\\u00ea\",\"nos\",\"little\",\"tengo\",\"keep\",\"person\",\"''\",\"\\u2200\",\"hope\",\"\\u0643\\u0644\",\"hey\",\"bisa\",\"free\",\"made\",\"foto\",\"va\",\"everything\",\"iya\",\"nigga\",\"eso\",\"et\",\"watch\",\"music\",\"week\",\"talk\",\"ne\",\"solo\",\"gente\",\"udah\",\"\\uff1a\",\"--\",\"\\uff3c\",\"mejor\",\"facebook\",\"ma\",\"v\",\"phone\",\"most\",\"same\",\"okay\",\"ik\",\"before\",\"minha\",\"days\",\"g\",\"ti\",\"damn\",\"nice\",\"voy\",\"vai\",\"call\",\"long\",\"tapi\",\"http\",\"sin\",\"nunca\",\"doing\",\"other\",\"find\",\"il\",\"sa\",\"sorry\",\"nya\",\"orang\",\"\\u00b0\",\"hard\",\"mean\",\"die\",\"\\u0627\\u0644\\u0644\\u064a\",\"tem\",\"soy\",\"este\",\"kalo\",\"s\\u00f3\",\"th\",\"win\",\"nothing\",\"into\",\"face\",\"cute\",\"'d\",\"gracias\",\"lah\",\"\\u0438\",\"any\",\"play\",\"\\u2190\",\"ko\",\"text\",\"\\u2323\",\"estoy\",\"tau\",\"ur\",\"buat\",\"#\",\"cause\",\"\\u044f\",\"put\",\"kau\",\"siempre\",\"juga\",\"casa\",\"\\u0623\\u0646\",\"help\",\"start\",\"feliz\",\"old\",\"ir\",\"very\",\"care\",\"bir\",\"makes\",\"song\",\"check\",\"watching\",\"ahora\",\"jadi\",\"os\",\"may\",\"friend\",\"beautiful\",\"heart\",\"ka\",\"vc\",\"mundo\",\"\\u043d\\u0430\",\"sure\",\"tan\",\"pretty\",\"aqui\",\"\\u043d\\u0435\",\"house\",\"\\u0631\\u062a\\u0648\\u064a\\u062a\",\"\\u064a\\u0627\",\"ja\",\"true\",\"muy\",\"away\",\"already\",\"actually\",\"believe\",\"try\",\"many\",\"ma\\u00f1ana\",\"mis\",\"lu\",\"those\",\"hot\",\"qu\\u00e9\",\"mal\",\"\\u0639\\u0646\",\"though\",\"ask\",\"amazing\",\"bed\",\"}\",\"two\",\"mom\",\"d\\u00eda\",\"ve\",\"dari\",\"gameinsight\",\"stay\",\"fun\",\"around\",\"van\",\"cont\",\"ready\",\"money\",\"bu\",\"funny\",\"cool\",\"hair\",\"\\u00e0\",\"tho\",\"{\",\"wo\",\"hi\",\"name\",\"tiene\",\"hahahaha\",\"pa\",\"algo\",\"gotta\",\"\\u0648\\u0644\\u0627\",\"boy\",\"another\",\"c'est\",\"hari\",\"jajajaja\",\"having\",\"cara\",\"jaja\",\"dm\",\"looking\",\"top\",\"android\",\"dah\",\"wow\",\"\\u2591\",\"eres\",\"ben\",\"must\",\"news\",\"met\",\"est\\u00e1\",\"nih\",\"family\",\"black\",\"thought\",\"nak\",\"super\",\"end\",\"hace\",\"remember\",\"ama\",\"party\",\"cant\",\"vamos\",\"anything\",\"anyone\",\"\\u0641\\u0648\\u0644\\u0648\",\"perfect\",\"guy\",\"vez\",\"christmas\",\"dos\",\"bueno\",\"nao\",\"years\",\"vote\",\"dormir\",\"bro\",\"else\",\"quien\",\"untuk\",\"jangan\",\"myself\",\"head\",\"mind\",\"gua\",\"talking\",\"while\",\"dat\",\"food\",\"\\u0434\",\"coming\",\"wkwk\",\"trying\",\"saya\",\"mucho\",\"without\",\"wrong\",\"\\u2019s\",\"baru\",\"__\",\"hehe\",\"hacer\",\"lot\",\"followed\",\"crazy\",\"hell\",\"feeling\",\"des\",\"kok\",\"j\",\"stats\",\"j'\",\"\\u0627\\u0646\",\"tweets\",\"non\",\"cosas\",\"era\",\"high\",\"niggas\",\"change\",\"movie\",\"xx\",\"mad\",\"sih\",\"sometimes\",\"deh\",\"allah\",\"through\",\"pour\",\"ela\",\"soon\",\"gone\",\"playing\",\"smile\",\"bukan\",\"tv\",\"fans\",\"hasta\",\"akan\",\"y'\",\"looks\",\"isso\",\"\\u270c\",\"tired\",\"boys\",\"might\",\"dong\",\"lg\",\"use\",\"maybe\",\"until\",\"menos\",\"own\",\"dengan\",\"eat\",\"ou\",\"weekend\",\"\\u02d8\",\"class\",\"ele\",\"harry\",\"iphone\",\"friday\",\"single\",\"ff\",\"awesome\",\"bout\",\"muito\",\"hoje\",\"\\u00ac\",\"dios\",\"such\",\"estar\",\"j\\u00e1\",\"quando\",\"esa\",\"making\",\"\\u2501\",\"times\",\"lmfao\",\"gw\",\"moment\",\"yet\",\"aw\",\"smh\",\"banget\",\"masih\",\"qui\",\"quem\",\"\\u2013\",\"leave\",\"du\",\"une\",\"guess\",\"hit\",\"\\u0441\",\"pm\",\"since\",\"pues\",\"est\",\"job\",\"\\uff89\",\"mana\",\"bom\",\"siapa\",\"suka\",\"bieber\",\"mention\",\"lebih\",\"favorite\",\"bitches\",\"forever\",\"\\u0644\\u064a\",\"final\",\"read\",\"alguien\",\"open\",\"yourself\",\"ese\",\"che\",\"sex\",\"yaa\",\"car\",\"direction\",\"tidak\",\"seu\",\"gets\",\"left\",\"re\",\"jam\",\"enough\",\"\\u0625\\u0644\\u0627\",\"once\",\"\\u2019\",\"part\",\"cada\",\"\\u5b9a\\u671f\",\"\\u0644\\u0643\",\"een\",\"seen\",\"kak\",\"as\\u00ed\",\"nem\",\"\\u0639\\u0645\\u0644\",\"white\",\"told\",\"says\",\"esto\",\"sad\",\"mo\",\"fue\",\"yah\",\"summer\",\"\\u0647\",\"\\u2b55\",\"\\u00bb\",\"thats\",\"\\u0645\\u0639\",\"posted\",\"wants\",\"agora\",\"together\",\"fan\",\"men\",\"hear\",\"full\",\"\\u2600\",\"sigo\",\"pq\",\"dulu\",\"plus\",\"foi\",\"tudo\",\"\\u0647\\u0648\",\"ill\",\"\\u3042\",\"thinking\",\"wtf\",\"pagi\",\"mama\",\"kalau\",\"hati\",\"sexy\",\"sayang\",\"baik\",\"semua\",\"hola\",\"went\",\"vos\",\"tanto\",\"finally\",\"fb\",\"sea\",\"stupid\",\"tus\",\"seriously\",\"hora\",\"min\",\"pic\",\"estas\",\"turn\",\"hours\",\"excited\",\"nah\",\"buy\",\"saying\",\"mah\",\"break\",\"needs\",\"ce\",\"room\",\"choice\",\"far\",\"dead\",\"quero\",\"saw\",\"kids\",\"lil\",\"whole\",\"puede\",\"fall\",\"sus\",\"lost\",\"asi\",\"word\",\"\\u2639\",\"also\",\"\\u0631\\u064a\\u062a\\u0648\\u064a\\u062a\",\"probably\",\"everybody\",\"tarde\",\"run\",\"sei\",\"follback\",\"forget\",\"sweet\",\"welcome\",\"selamat\",\"\\uff3f\",\"sur\",\"place\",\"gusta\",\"sabe\",\"androidgames\",\"tp\",\"tiempo\",\"\\u0628\\u0633\",\"sou\",\"tuh\",\"vs\",\"eyes\",\"\\u0627\\u0646\\u0627\",\"picture\",\"das\",\"meet\",\"anak\",\"persona\",\"essa\",\"bored\",\"following\",\"nadie\",\"nobody\",\"dice\",\"alone\",\"sick\",\"red\",\"city\",\"cinta\",\"\\u6708\",\"linda\",\"dream\",\"story\",\"km\",\"het\",\"waiting\",\"^_^\",\"mine\",\"\\u0447\\u0442\\u043e\",\"reason\",\"kk\",\"\\u0644\\u0648\",\"online\",\"fast\",\"udh\",\"wanted\",\"op\",\"others\",\"gay\",\"n\\u2019t\",\"used\",\"sem\",\"understand\",\"moi\",\"sm\",\"aint\",\"donde\",\"bem\",\"which\",\"ng\",\"followback\",\"punya\",\"late\",\"anda\",\"tidur\",\"puedo\",\"early\",\"nd\",\"personas\",\"banyak\",\"\\u2705\",\"\\u278a\",\"trust\",\"noche\",\"tl\",\"\\uff1e\",\"\\u00ab\",\"af\",\"move\",\"pro\",\"bring\",\"ku\",\"called\",\"relationship\",\"idk\",\"hurt\",\"st\",\"pernah\",\"pessoas\",\"hello\",\"uno\",\"unfollowers\",\"cry\"],\"x\":{\"__ndarray__\":\"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\",\"dtype\":\"float64\",\"shape\":[1000]},\"y\":{\"__ndarray__\":\"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\",\"dtype\":\"float64\",\"shape\":[1000]}},\"selected\":{\"id\":\"1167\",\"type\":\"Selection\"},\"selection_policy\":{\"id\":\"1166\",\"type\":\"UnionRenderers\"}},\"id\":\"1110\",\"type\":\"ColumnDataSource\"},{\"attributes\":{\"fill_alpha\":{\"value\":0.1},\"fill_color\":{\"value\":\"#1f77b4\"},\"line_alpha\":{\"value\":0.1},\"line_color\":{\"value\":\"#1f77b4\"},\"size\":{\"units\":\"screen\",\"value\":10},\"x\":{\"field\":\"x\"},\"y\":{\"field\":\"y\"}},\"id\":\"1145\",\"type\":\"Scatter\"},{\"attributes\":{},\"id\":\"1166\",\"type\":\"UnionRenderers\"},{\"attributes\":{\"source\":{\"id\":\"1110\",\"type\":\"ColumnDataSource\"}},\"id\":\"1147\",\"type\":\"CDSView\"},{\"attributes\":{\"callback\":null,\"tooltips\":[[\"token\",\"@token\"]]},\"id\":\"1148\",\"type\":\"HoverTool\"},{\"attributes\":{},\"id\":\"1167\",\"type\":\"Selection\"}],\"root_ids\":[\"1111\"]},\"title\":\"Bokeh Application\",\"version\":\"1.3.4\"}};\n",
       "  var render_items = [{\"docid\":\"0acaa54a-cbf4-426e-b394-85488eb078be\",\"roots\":{\"1111\":\"707b155a-e7ae-49db-8b38-85b9e855ef34\"}}];\n",
       "  root.Bokeh.embed.embed_items_notebook(docs_json, render_items);\n",
       "\n",
       "  }\n",
       "  if (root.Bokeh !== undefined) {\n",
       "    embed_document(root);\n",
       "  } else {\n",
       "    var attempts = 0;\n",
       "    var timer = setInterval(function(root) {\n",
       "      if (root.Bokeh !== undefined) {\n",
       "        embed_document(root);\n",
       "        clearInterval(timer);\n",
       "      }\n",
       "      attempts++;\n",
       "      if (attempts > 100) {\n",
       "        console.log(\"Bokeh: ERROR: Unable to run BokehJS code because BokehJS library is missing\");\n",
       "        clearInterval(timer);\n",
       "      }\n",
       "    }, 10, root)\n",
       "  }\n",
       "})(window);"
      ],
      "application/vnd.bokehjs_exec.v0+json": ""
     },
     "metadata": {
      "application/vnd.bokehjs_exec.v0+json": {
       "id": "1111"
      }
     },
     "output_type": "display_data"
    },
    {
     "data": {
      "text/html": [
       "<div style=\"display: table;\"><div style=\"display: table-row;\"><div style=\"display: table-cell;\"><b title=\"bokeh.plotting.figure.Figure\">Figure</b>(</div><div style=\"display: table-cell;\">id&nbsp;=&nbsp;'1111', <span id=\"1223\" style=\"cursor: pointer;\">&hellip;)</span></div></div><div class=\"1222\" style=\"display: none;\"><div style=\"display: table-cell;\"></div><div style=\"display: table-cell;\">above&nbsp;=&nbsp;[],</div></div><div class=\"1222\" style=\"display: none;\"><div style=\"display: table-cell;\"></div><div style=\"display: table-cell;\">align&nbsp;=&nbsp;'start',</div></div><div class=\"1222\" style=\"display: none;\"><div style=\"display: table-cell;\"></div><div style=\"display: table-cell;\">aspect_ratio&nbsp;=&nbsp;None,</div></div><div class=\"1222\" style=\"display: none;\"><div style=\"display: table-cell;\"></div><div style=\"display: table-cell;\">aspect_scale&nbsp;=&nbsp;1,</div></div><div class=\"1222\" style=\"display: none;\"><div style=\"display: table-cell;\"></div><div style=\"display: table-cell;\">background&nbsp;=&nbsp;None,</div></div><div class=\"1222\" style=\"display: none;\"><div style=\"display: table-cell;\"></div><div style=\"display: table-cell;\">background_fill_alpha&nbsp;=&nbsp;{'value': 1.0},</div></div><div class=\"1222\" style=\"display: none;\"><div style=\"display: table-cell;\"></div><div style=\"display: table-cell;\">background_fill_color&nbsp;=&nbsp;{'value': '#ffffff'},</div></div><div class=\"1222\" style=\"display: none;\"><div style=\"display: table-cell;\"></div><div style=\"display: table-cell;\">below&nbsp;=&nbsp;[LinearAxis(id='1120', ...)],</div></div><div class=\"1222\" style=\"display: none;\"><div style=\"display: table-cell;\"></div><div style=\"display: table-cell;\">border_fill_alpha&nbsp;=&nbsp;{'value': 1.0},</div></div><div class=\"1222\" style=\"display: none;\"><div style=\"display: table-cell;\"></div><div style=\"display: table-cell;\">border_fill_color&nbsp;=&nbsp;{'value': '#ffffff'},</div></div><div class=\"1222\" style=\"display: none;\"><div style=\"display: table-cell;\"></div><div style=\"display: table-cell;\">center&nbsp;=&nbsp;[Grid(id='1124', ...), Grid(id='1129', ...)],</div></div><div class=\"1222\" style=\"display: none;\"><div style=\"display: table-cell;\"></div><div style=\"display: table-cell;\">css_classes&nbsp;=&nbsp;[],</div></div><div class=\"1222\" style=\"display: none;\"><div style=\"display: table-cell;\"></div><div style=\"display: table-cell;\">disabled&nbsp;=&nbsp;False,</div></div><div class=\"1222\" style=\"display: none;\"><div style=\"display: table-cell;\"></div><div style=\"display: table-cell;\">extra_x_ranges&nbsp;=&nbsp;{},</div></div><div class=\"1222\" style=\"display: none;\"><div style=\"display: table-cell;\"></div><div style=\"display: table-cell;\">extra_y_ranges&nbsp;=&nbsp;{},</div></div><div class=\"1222\" style=\"display: none;\"><div style=\"display: table-cell;\"></div><div style=\"display: table-cell;\">frame_height&nbsp;=&nbsp;None,</div></div><div class=\"1222\" style=\"display: none;\"><div style=\"display: table-cell;\"></div><div style=\"display: table-cell;\">frame_width&nbsp;=&nbsp;None,</div></div><div class=\"1222\" style=\"display: none;\"><div style=\"display: table-cell;\"></div><div style=\"display: table-cell;\">height&nbsp;=&nbsp;None,</div></div><div class=\"1222\" style=\"display: none;\"><div style=\"display: table-cell;\"></div><div style=\"display: table-cell;\">height_policy&nbsp;=&nbsp;'auto',</div></div><div class=\"1222\" style=\"display: none;\"><div style=\"display: table-cell;\"></div><div style=\"display: table-cell;\">hidpi&nbsp;=&nbsp;True,</div></div><div class=\"1222\" style=\"display: none;\"><div style=\"display: table-cell;\"></div><div style=\"display: table-cell;\">js_event_callbacks&nbsp;=&nbsp;{},</div></div><div class=\"1222\" style=\"display: none;\"><div style=\"display: table-cell;\"></div><div style=\"display: table-cell;\">js_property_callbacks&nbsp;=&nbsp;{},</div></div><div class=\"1222\" style=\"display: none;\"><div style=\"display: table-cell;\"></div><div style=\"display: table-cell;\">left&nbsp;=&nbsp;[LinearAxis(id='1125', ...)],</div></div><div class=\"1222\" style=\"display: none;\"><div style=\"display: table-cell;\"></div><div style=\"display: table-cell;\">lod_factor&nbsp;=&nbsp;10,</div></div><div class=\"1222\" style=\"display: none;\"><div style=\"display: table-cell;\"></div><div style=\"display: table-cell;\">lod_interval&nbsp;=&nbsp;300,</div></div><div class=\"1222\" style=\"display: none;\"><div style=\"display: table-cell;\"></div><div style=\"display: table-cell;\">lod_threshold&nbsp;=&nbsp;2000,</div></div><div class=\"1222\" style=\"display: none;\"><div style=\"display: table-cell;\"></div><div style=\"display: table-cell;\">lod_timeout&nbsp;=&nbsp;500,</div></div><div class=\"1222\" style=\"display: none;\"><div style=\"display: table-cell;\"></div><div style=\"display: table-cell;\">margin&nbsp;=&nbsp;(0, 0, 0, 0),</div></div><div class=\"1222\" style=\"display: none;\"><div style=\"display: table-cell;\"></div><div style=\"display: table-cell;\">match_aspect&nbsp;=&nbsp;False,</div></div><div class=\"1222\" style=\"display: none;\"><div style=\"display: table-cell;\"></div><div style=\"display: table-cell;\">max_height&nbsp;=&nbsp;None,</div></div><div class=\"1222\" style=\"display: none;\"><div style=\"display: table-cell;\"></div><div style=\"display: table-cell;\">max_width&nbsp;=&nbsp;None,</div></div><div class=\"1222\" style=\"display: none;\"><div style=\"display: table-cell;\"></div><div style=\"display: table-cell;\">min_border&nbsp;=&nbsp;5,</div></div><div class=\"1222\" style=\"display: none;\"><div style=\"display: table-cell;\"></div><div style=\"display: table-cell;\">min_border_bottom&nbsp;=&nbsp;None,</div></div><div class=\"1222\" style=\"display: none;\"><div style=\"display: table-cell;\"></div><div style=\"display: table-cell;\">min_border_left&nbsp;=&nbsp;None,</div></div><div class=\"1222\" style=\"display: none;\"><div style=\"display: table-cell;\"></div><div style=\"display: table-cell;\">min_border_right&nbsp;=&nbsp;None,</div></div><div class=\"1222\" style=\"display: none;\"><div style=\"display: table-cell;\"></div><div style=\"display: table-cell;\">min_border_top&nbsp;=&nbsp;None,</div></div><div class=\"1222\" style=\"display: none;\"><div style=\"display: table-cell;\"></div><div style=\"display: table-cell;\">min_height&nbsp;=&nbsp;None,</div></div><div class=\"1222\" style=\"display: none;\"><div style=\"display: table-cell;\"></div><div style=\"display: table-cell;\">min_width&nbsp;=&nbsp;None,</div></div><div class=\"1222\" style=\"display: none;\"><div style=\"display: table-cell;\"></div><div style=\"display: table-cell;\">name&nbsp;=&nbsp;None,</div></div><div class=\"1222\" style=\"display: none;\"><div style=\"display: table-cell;\"></div><div style=\"display: table-cell;\">outline_line_alpha&nbsp;=&nbsp;{'value': 1.0},</div></div><div class=\"1222\" style=\"display: none;\"><div style=\"display: table-cell;\"></div><div style=\"display: table-cell;\">outline_line_cap&nbsp;=&nbsp;'butt',</div></div><div class=\"1222\" style=\"display: none;\"><div style=\"display: table-cell;\"></div><div style=\"display: table-cell;\">outline_line_color&nbsp;=&nbsp;{'value': '#e5e5e5'},</div></div><div class=\"1222\" style=\"display: none;\"><div style=\"display: table-cell;\"></div><div style=\"display: table-cell;\">outline_line_dash&nbsp;=&nbsp;[],</div></div><div class=\"1222\" style=\"display: none;\"><div style=\"display: table-cell;\"></div><div style=\"display: table-cell;\">outline_line_dash_offset&nbsp;=&nbsp;0,</div></div><div class=\"1222\" style=\"display: none;\"><div style=\"display: table-cell;\"></div><div style=\"display: table-cell;\">outline_line_join&nbsp;=&nbsp;'bevel',</div></div><div class=\"1222\" style=\"display: none;\"><div style=\"display: table-cell;\"></div><div style=\"display: table-cell;\">outline_line_width&nbsp;=&nbsp;{'value': 1},</div></div><div class=\"1222\" style=\"display: none;\"><div style=\"display: table-cell;\"></div><div style=\"display: table-cell;\">output_backend&nbsp;=&nbsp;'canvas',</div></div><div class=\"1222\" style=\"display: none;\"><div style=\"display: table-cell;\"></div><div style=\"display: table-cell;\">plot_height&nbsp;=&nbsp;400,</div></div><div class=\"1222\" style=\"display: none;\"><div style=\"display: table-cell;\"></div><div style=\"display: table-cell;\">plot_width&nbsp;=&nbsp;600,</div></div><div class=\"1222\" style=\"display: none;\"><div style=\"display: table-cell;\"></div><div style=\"display: table-cell;\">renderers&nbsp;=&nbsp;[GlyphRenderer(id='1146', ...)],</div></div><div class=\"1222\" style=\"display: none;\"><div style=\"display: table-cell;\"></div><div style=\"display: table-cell;\">reset_policy&nbsp;=&nbsp;'standard',</div></div><div class=\"1222\" style=\"display: none;\"><div style=\"display: table-cell;\"></div><div style=\"display: table-cell;\">right&nbsp;=&nbsp;[],</div></div><div class=\"1222\" style=\"display: none;\"><div style=\"display: table-cell;\"></div><div style=\"display: table-cell;\">sizing_mode&nbsp;=&nbsp;None,</div></div><div class=\"1222\" style=\"display: none;\"><div style=\"display: table-cell;\"></div><div style=\"display: table-cell;\">subscribed_events&nbsp;=&nbsp;[],</div></div><div class=\"1222\" style=\"display: none;\"><div style=\"display: table-cell;\"></div><div style=\"display: table-cell;\">tags&nbsp;=&nbsp;[],</div></div><div class=\"1222\" style=\"display: none;\"><div style=\"display: table-cell;\"></div><div style=\"display: table-cell;\">title&nbsp;=&nbsp;Title(id='1160', ...),</div></div><div class=\"1222\" style=\"display: none;\"><div style=\"display: table-cell;\"></div><div style=\"display: table-cell;\">title_location&nbsp;=&nbsp;'above',</div></div><div class=\"1222\" style=\"display: none;\"><div style=\"display: table-cell;\"></div><div style=\"display: table-cell;\">toolbar&nbsp;=&nbsp;Toolbar(id='1136', ...),</div></div><div class=\"1222\" style=\"display: none;\"><div style=\"display: table-cell;\"></div><div style=\"display: table-cell;\">toolbar_location&nbsp;=&nbsp;'right',</div></div><div class=\"1222\" style=\"display: none;\"><div style=\"display: table-cell;\"></div><div style=\"display: table-cell;\">toolbar_sticky&nbsp;=&nbsp;True,</div></div><div class=\"1222\" style=\"display: none;\"><div style=\"display: table-cell;\"></div><div style=\"display: table-cell;\">visible&nbsp;=&nbsp;True,</div></div><div class=\"1222\" style=\"display: none;\"><div style=\"display: table-cell;\"></div><div style=\"display: table-cell;\">width&nbsp;=&nbsp;None,</div></div><div class=\"1222\" style=\"display: none;\"><div style=\"display: table-cell;\"></div><div style=\"display: table-cell;\">width_policy&nbsp;=&nbsp;'auto',</div></div><div class=\"1222\" style=\"display: none;\"><div style=\"display: table-cell;\"></div><div style=\"display: table-cell;\">x_range&nbsp;=&nbsp;DataRange1d(id='1112', ...),</div></div><div class=\"1222\" style=\"display: none;\"><div style=\"display: table-cell;\"></div><div style=\"display: table-cell;\">x_scale&nbsp;=&nbsp;LinearScale(id='1116', ...),</div></div><div class=\"1222\" style=\"display: none;\"><div style=\"display: table-cell;\"></div><div style=\"display: table-cell;\">y_range&nbsp;=&nbsp;DataRange1d(id='1114', ...),</div></div><div class=\"1222\" style=\"display: none;\"><div style=\"display: table-cell;\"></div><div style=\"display: table-cell;\">y_scale&nbsp;=&nbsp;LinearScale(id='1118', ...))</div></div></div>\n",
       "<script>\n",
       "(function() {\n",
       "  var expanded = false;\n",
       "  var ellipsis = document.getElementById(\"1223\");\n",
       "  ellipsis.addEventListener(\"click\", function() {\n",
       "    var rows = document.getElementsByClassName(\"1222\");\n",
       "    for (var i = 0; i < rows.length; i++) {\n",
       "      var el = rows[i];\n",
       "      el.style.display = expanded ? \"none\" : \"table-row\";\n",
       "    }\n",
       "    ellipsis.innerHTML = expanded ? \"&hellip;)\" : \"&lsaquo;&lsaquo;&lsaquo;\";\n",
       "    expanded = !expanded;\n",
       "  });\n",
       "})();\n",
       "</script>\n"
      ],
      "text/plain": [
       "Figure(id='1111', ...)"
      ]
     },
     "execution_count": 17,
     "metadata": {},
     "output_type": "execute_result"
    }
   ],
   "source": [
    "import bokeh.models as bm, bokeh.plotting as pl\n",
    "from bokeh.io import output_notebook\n",
    "output_notebook()\n",
    "\n",
    "def draw_vectors(x, y, radius=10, alpha=0.25, color='blue',\n",
    "                 width=600, height=400, show=True, **kwargs):\n",
    "    if isinstance(color, str): color = [color] * len(x)\n",
    "    data_source = bm.ColumnDataSource({ 'x' : x, 'y' : y, 'color': color, **kwargs })\n",
    "\n",
    "    fig = pl.figure(active_scroll='wheel_zoom', width=width, height=height)\n",
    "    fig.scatter('x', 'y', size=radius, color='color', alpha=alpha, source=data_source)\n",
    "\n",
    "    fig.add_tools(bm.HoverTool(tooltips=[(key, \"@\" + key) for key in kwargs.keys()]))\n",
    "    if show: pl.show(fig)\n",
    "    return fig\n",
    "\n",
    "\n",
    "draw_vectors(word_vectors_pca[:, 0], word_vectors_pca[:, 1], token=words)"
   ]
  },
  {
   "cell_type": "markdown",
   "metadata": {
    "colab_type": "text",
    "id": "Qv1hIhRoFcHC"
   },
   "source": [
    "Well, as we can see, this space does not look perfect, sometimes we see (it seems) different words grouped together.\n",
    "\n",
    "That happend mostly because our way to reduce dimensionality of vectors (PCA)  is not perfect. Let's try to use different algorithm for doing this: TSNE.\n",
    "\n",
    "TSNE is in some way creates embeddings itself, so we may hope that it will work better)"
   ]
  },
  {
   "cell_type": "markdown",
   "metadata": {
    "colab_type": "text",
    "id": "gHwUk0TBomVz"
   },
   "source": [
    "https://scikit-learn.org/stable/modules/generated/sklearn.manifold.TSNE.html\n",
    "\n",
    "https://distill.pub/2016/misread-tsne/"
   ]
  },
  {
   "cell_type": "code",
   "execution_count": 20,
   "metadata": {
    "colab": {},
    "colab_type": "code",
    "id": "qpSg31n_nlHO"
   },
   "outputs": [
    {
     "name": "stdout",
     "output_type": "stream",
     "text": [
      "[t-SNE] Computing 91 nearest neighbors...\n",
      "[t-SNE] Indexed 1000 samples in 0.003s...\n",
      "[t-SNE] Computed neighbors for 1000 samples in 0.352s...\n",
      "[t-SNE] Computed conditional probabilities for sample 1000 / 1000\n",
      "[t-SNE] Mean sigma: 1.716134\n",
      "[t-SNE] Computed conditional probabilities in 0.034s\n",
      "[t-SNE] Iteration 50: error = 67.7193451, gradient norm = 0.3343575 (50 iterations in 9.822s)\n",
      "[t-SNE] Iteration 100: error = 67.9582138, gradient norm = 0.2989068 (50 iterations in 9.245s)\n",
      "[t-SNE] Iteration 150: error = 68.5828857, gradient norm = 0.3087775 (50 iterations in 8.546s)\n",
      "[t-SNE] Iteration 200: error = 69.2910767, gradient norm = 0.3029344 (50 iterations in 9.260s)\n",
      "[t-SNE] Iteration 250: error = 69.0198822, gradient norm = 0.2894115 (50 iterations in 9.189s)\n",
      "[t-SNE] KL divergence after 250 iterations with early exaggeration: 69.019882\n",
      "[t-SNE] Iteration 300: error = 1.2050655, gradient norm = 0.0019959 (50 iterations in 7.049s)\n",
      "[t-SNE] Iteration 350: error = 1.1152738, gradient norm = 0.0004802 (50 iterations in 6.584s)\n",
      "[t-SNE] Iteration 400: error = 1.0799906, gradient norm = 0.0002953 (50 iterations in 6.472s)\n",
      "[t-SNE] Iteration 450: error = 1.0666593, gradient norm = 0.0002050 (50 iterations in 6.492s)\n",
      "[t-SNE] Iteration 500: error = 1.0592738, gradient norm = 0.0001393 (50 iterations in 6.399s)\n",
      "[t-SNE] Iteration 550: error = 1.0546123, gradient norm = 0.0001351 (50 iterations in 6.746s)\n",
      "[t-SNE] Iteration 600: error = 1.0512499, gradient norm = 0.0001286 (50 iterations in 8.963s)\n",
      "[t-SNE] Iteration 650: error = 1.0489378, gradient norm = 0.0001369 (50 iterations in 6.633s)\n",
      "[t-SNE] Iteration 700: error = 1.0474226, gradient norm = 0.0001124 (50 iterations in 6.504s)\n",
      "[t-SNE] Iteration 750: error = 1.0461305, gradient norm = 0.0001091 (50 iterations in 6.421s)\n",
      "[t-SNE] Iteration 800: error = 1.0444041, gradient norm = 0.0001103 (50 iterations in 6.898s)\n",
      "[t-SNE] Iteration 850: error = 1.0435506, gradient norm = 0.0000833 (50 iterations in 6.938s)\n",
      "[t-SNE] Iteration 900: error = 1.0428405, gradient norm = 0.0000678 (50 iterations in 6.852s)\n",
      "[t-SNE] Iteration 950: error = 1.0421151, gradient norm = 0.0000767 (50 iterations in 6.911s)\n",
      "[t-SNE] Iteration 1000: error = 1.0415592, gradient norm = 0.0000766 (50 iterations in 6.406s)\n",
      "[t-SNE] KL divergence after 1000 iterations: 1.041559\n"
     ]
    }
   ],
   "source": [
    "from sklearn.manifold import TSNE\n",
    "\n",
    "tsne = TSNE(n_components=2, verbose=50)\n",
    "word_vectors_tsne = tsne.fit_transform(word_vectors)\n",
    "\n",
    "ss = StandardScaler().fit(word_vectors_tsne)\n",
    "word_vectors_tsne = ss.transform(word_vectors_tsne)"
   ]
  },
  {
   "cell_type": "code",
   "execution_count": 21,
   "metadata": {
    "colab": {},
    "colab_type": "code",
    "id": "TzBpTdLFnosK"
   },
   "outputs": [
    {
     "data": {
      "text/html": [
       "\n",
       "    <div class=\"bk-root\">\n",
       "        <a href=\"https://bokeh.pydata.org\" target=\"_blank\" class=\"bk-logo bk-logo-small bk-logo-notebook\"></a>\n",
       "        <span id=\"1226\">Loading BokehJS ...</span>\n",
       "    </div>"
      ]
     },
     "metadata": {},
     "output_type": "display_data"
    },
    {
     "data": {
      "application/javascript": [
       "\n",
       "(function(root) {\n",
       "  function now() {\n",
       "    return new Date();\n",
       "  }\n",
       "\n",
       "  var force = true;\n",
       "\n",
       "  if (typeof root._bokeh_onload_callbacks === \"undefined\" || force === true) {\n",
       "    root._bokeh_onload_callbacks = [];\n",
       "    root._bokeh_is_loading = undefined;\n",
       "  }\n",
       "\n",
       "  var JS_MIME_TYPE = 'application/javascript';\n",
       "  var HTML_MIME_TYPE = 'text/html';\n",
       "  var EXEC_MIME_TYPE = 'application/vnd.bokehjs_exec.v0+json';\n",
       "  var CLASS_NAME = 'output_bokeh rendered_html';\n",
       "\n",
       "  /**\n",
       "   * Render data to the DOM node\n",
       "   */\n",
       "  function render(props, node) {\n",
       "    var script = document.createElement(\"script\");\n",
       "    node.appendChild(script);\n",
       "  }\n",
       "\n",
       "  /**\n",
       "   * Handle when an output is cleared or removed\n",
       "   */\n",
       "  function handleClearOutput(event, handle) {\n",
       "    var cell = handle.cell;\n",
       "\n",
       "    var id = cell.output_area._bokeh_element_id;\n",
       "    var server_id = cell.output_area._bokeh_server_id;\n",
       "    // Clean up Bokeh references\n",
       "    if (id != null && id in Bokeh.index) {\n",
       "      Bokeh.index[id].model.document.clear();\n",
       "      delete Bokeh.index[id];\n",
       "    }\n",
       "\n",
       "    if (server_id !== undefined) {\n",
       "      // Clean up Bokeh references\n",
       "      var cmd = \"from bokeh.io.state import curstate; print(curstate().uuid_to_server['\" + server_id + \"'].get_sessions()[0].document.roots[0]._id)\";\n",
       "      cell.notebook.kernel.execute(cmd, {\n",
       "        iopub: {\n",
       "          output: function(msg) {\n",
       "            var id = msg.content.text.trim();\n",
       "            if (id in Bokeh.index) {\n",
       "              Bokeh.index[id].model.document.clear();\n",
       "              delete Bokeh.index[id];\n",
       "            }\n",
       "          }\n",
       "        }\n",
       "      });\n",
       "      // Destroy server and session\n",
       "      var cmd = \"import bokeh.io.notebook as ion; ion.destroy_server('\" + server_id + \"')\";\n",
       "      cell.notebook.kernel.execute(cmd);\n",
       "    }\n",
       "  }\n",
       "\n",
       "  /**\n",
       "   * Handle when a new output is added\n",
       "   */\n",
       "  function handleAddOutput(event, handle) {\n",
       "    var output_area = handle.output_area;\n",
       "    var output = handle.output;\n",
       "\n",
       "    // limit handleAddOutput to display_data with EXEC_MIME_TYPE content only\n",
       "    if ((output.output_type != \"display_data\") || (!output.data.hasOwnProperty(EXEC_MIME_TYPE))) {\n",
       "      return\n",
       "    }\n",
       "\n",
       "    var toinsert = output_area.element.find(\".\" + CLASS_NAME.split(' ')[0]);\n",
       "\n",
       "    if (output.metadata[EXEC_MIME_TYPE][\"id\"] !== undefined) {\n",
       "      toinsert[toinsert.length - 1].firstChild.textContent = output.data[JS_MIME_TYPE];\n",
       "      // store reference to embed id on output_area\n",
       "      output_area._bokeh_element_id = output.metadata[EXEC_MIME_TYPE][\"id\"];\n",
       "    }\n",
       "    if (output.metadata[EXEC_MIME_TYPE][\"server_id\"] !== undefined) {\n",
       "      var bk_div = document.createElement(\"div\");\n",
       "      bk_div.innerHTML = output.data[HTML_MIME_TYPE];\n",
       "      var script_attrs = bk_div.children[0].attributes;\n",
       "      for (var i = 0; i < script_attrs.length; i++) {\n",
       "        toinsert[toinsert.length - 1].firstChild.setAttribute(script_attrs[i].name, script_attrs[i].value);\n",
       "      }\n",
       "      // store reference to server id on output_area\n",
       "      output_area._bokeh_server_id = output.metadata[EXEC_MIME_TYPE][\"server_id\"];\n",
       "    }\n",
       "  }\n",
       "\n",
       "  function register_renderer(events, OutputArea) {\n",
       "\n",
       "    function append_mime(data, metadata, element) {\n",
       "      // create a DOM node to render to\n",
       "      var toinsert = this.create_output_subarea(\n",
       "        metadata,\n",
       "        CLASS_NAME,\n",
       "        EXEC_MIME_TYPE\n",
       "      );\n",
       "      this.keyboard_manager.register_events(toinsert);\n",
       "      // Render to node\n",
       "      var props = {data: data, metadata: metadata[EXEC_MIME_TYPE]};\n",
       "      render(props, toinsert[toinsert.length - 1]);\n",
       "      element.append(toinsert);\n",
       "      return toinsert\n",
       "    }\n",
       "\n",
       "    /* Handle when an output is cleared or removed */\n",
       "    events.on('clear_output.CodeCell', handleClearOutput);\n",
       "    events.on('delete.Cell', handleClearOutput);\n",
       "\n",
       "    /* Handle when a new output is added */\n",
       "    events.on('output_added.OutputArea', handleAddOutput);\n",
       "\n",
       "    /**\n",
       "     * Register the mime type and append_mime function with output_area\n",
       "     */\n",
       "    OutputArea.prototype.register_mime_type(EXEC_MIME_TYPE, append_mime, {\n",
       "      /* Is output safe? */\n",
       "      safe: true,\n",
       "      /* Index of renderer in `output_area.display_order` */\n",
       "      index: 0\n",
       "    });\n",
       "  }\n",
       "\n",
       "  // register the mime type if in Jupyter Notebook environment and previously unregistered\n",
       "  if (root.Jupyter !== undefined) {\n",
       "    var events = require('base/js/events');\n",
       "    var OutputArea = require('notebook/js/outputarea').OutputArea;\n",
       "\n",
       "    if (OutputArea.prototype.mime_types().indexOf(EXEC_MIME_TYPE) == -1) {\n",
       "      register_renderer(events, OutputArea);\n",
       "    }\n",
       "  }\n",
       "\n",
       "  \n",
       "  if (typeof (root._bokeh_timeout) === \"undefined\" || force === true) {\n",
       "    root._bokeh_timeout = Date.now() + 5000;\n",
       "    root._bokeh_failed_load = false;\n",
       "  }\n",
       "\n",
       "  var NB_LOAD_WARNING = {'data': {'text/html':\n",
       "     \"<div style='background-color: #fdd'>\\n\"+\n",
       "     \"<p>\\n\"+\n",
       "     \"BokehJS does not appear to have successfully loaded. If loading BokehJS from CDN, this \\n\"+\n",
       "     \"may be due to a slow or bad network connection. Possible fixes:\\n\"+\n",
       "     \"</p>\\n\"+\n",
       "     \"<ul>\\n\"+\n",
       "     \"<li>re-rerun `output_notebook()` to attempt to load from CDN again, or</li>\\n\"+\n",
       "     \"<li>use INLINE resources instead, as so:</li>\\n\"+\n",
       "     \"</ul>\\n\"+\n",
       "     \"<code>\\n\"+\n",
       "     \"from bokeh.resources import INLINE\\n\"+\n",
       "     \"output_notebook(resources=INLINE)\\n\"+\n",
       "     \"</code>\\n\"+\n",
       "     \"</div>\"}};\n",
       "\n",
       "  function display_loaded() {\n",
       "    var el = document.getElementById(\"1226\");\n",
       "    if (el != null) {\n",
       "      el.textContent = \"BokehJS is loading...\";\n",
       "    }\n",
       "    if (root.Bokeh !== undefined) {\n",
       "      if (el != null) {\n",
       "        el.textContent = \"BokehJS \" + root.Bokeh.version + \" successfully loaded.\";\n",
       "      }\n",
       "    } else if (Date.now() < root._bokeh_timeout) {\n",
       "      setTimeout(display_loaded, 100)\n",
       "    }\n",
       "  }\n",
       "\n",
       "\n",
       "  function run_callbacks() {\n",
       "    try {\n",
       "      root._bokeh_onload_callbacks.forEach(function(callback) {\n",
       "        if (callback != null)\n",
       "          callback();\n",
       "      });\n",
       "    } finally {\n",
       "      delete root._bokeh_onload_callbacks\n",
       "    }\n",
       "    console.debug(\"Bokeh: all callbacks have finished\");\n",
       "  }\n",
       "\n",
       "  function load_libs(css_urls, js_urls, callback) {\n",
       "    if (css_urls == null) css_urls = [];\n",
       "    if (js_urls == null) js_urls = [];\n",
       "\n",
       "    root._bokeh_onload_callbacks.push(callback);\n",
       "    if (root._bokeh_is_loading > 0) {\n",
       "      console.debug(\"Bokeh: BokehJS is being loaded, scheduling callback at\", now());\n",
       "      return null;\n",
       "    }\n",
       "    if (js_urls == null || js_urls.length === 0) {\n",
       "      run_callbacks();\n",
       "      return null;\n",
       "    }\n",
       "    console.debug(\"Bokeh: BokehJS not loaded, scheduling load and callback at\", now());\n",
       "    root._bokeh_is_loading = css_urls.length + js_urls.length;\n",
       "\n",
       "    function on_load() {\n",
       "      root._bokeh_is_loading--;\n",
       "      if (root._bokeh_is_loading === 0) {\n",
       "        console.debug(\"Bokeh: all BokehJS libraries/stylesheets loaded\");\n",
       "        run_callbacks()\n",
       "      }\n",
       "    }\n",
       "\n",
       "    function on_error() {\n",
       "      console.error(\"failed to load \" + url);\n",
       "    }\n",
       "\n",
       "    for (var i = 0; i < css_urls.length; i++) {\n",
       "      var url = css_urls[i];\n",
       "      const element = document.createElement(\"link\");\n",
       "      element.onload = on_load;\n",
       "      element.onerror = on_error;\n",
       "      element.rel = \"stylesheet\";\n",
       "      element.type = \"text/css\";\n",
       "      element.href = url;\n",
       "      console.debug(\"Bokeh: injecting link tag for BokehJS stylesheet: \", url);\n",
       "      document.body.appendChild(element);\n",
       "    }\n",
       "\n",
       "    for (var i = 0; i < js_urls.length; i++) {\n",
       "      var url = js_urls[i];\n",
       "      var element = document.createElement('script');\n",
       "      element.onload = on_load;\n",
       "      element.onerror = on_error;\n",
       "      element.async = false;\n",
       "      element.src = url;\n",
       "      console.debug(\"Bokeh: injecting script tag for BokehJS library: \", url);\n",
       "      document.head.appendChild(element);\n",
       "    }\n",
       "  };var element = document.getElementById(\"1226\");\n",
       "  if (element == null) {\n",
       "    console.error(\"Bokeh: ERROR: autoload.js configured with elementid '1226' but no matching script tag was found. \")\n",
       "    return false;\n",
       "  }\n",
       "\n",
       "  function inject_raw_css(css) {\n",
       "    const element = document.createElement(\"style\");\n",
       "    element.appendChild(document.createTextNode(css));\n",
       "    document.body.appendChild(element);\n",
       "  }\n",
       "\n",
       "  var js_urls = [\"https://cdn.pydata.org/bokeh/release/bokeh-1.3.4.min.js\", \"https://cdn.pydata.org/bokeh/release/bokeh-widgets-1.3.4.min.js\", \"https://cdn.pydata.org/bokeh/release/bokeh-tables-1.3.4.min.js\", \"https://cdn.pydata.org/bokeh/release/bokeh-gl-1.3.4.min.js\"];\n",
       "  var css_urls = [];\n",
       "\n",
       "  var inline_js = [\n",
       "    function(Bokeh) {\n",
       "      Bokeh.set_log_level(\"info\");\n",
       "    },\n",
       "    \n",
       "    function(Bokeh) {\n",
       "      \n",
       "    },\n",
       "    function(Bokeh) {} // ensure no trailing comma for IE\n",
       "  ];\n",
       "\n",
       "  function run_inline_js() {\n",
       "    \n",
       "    if ((root.Bokeh !== undefined) || (force === true)) {\n",
       "      for (var i = 0; i < inline_js.length; i++) {\n",
       "        inline_js[i].call(root, root.Bokeh);\n",
       "      }if (force === true) {\n",
       "        display_loaded();\n",
       "      }} else if (Date.now() < root._bokeh_timeout) {\n",
       "      setTimeout(run_inline_js, 100);\n",
       "    } else if (!root._bokeh_failed_load) {\n",
       "      console.log(\"Bokeh: BokehJS failed to load within specified timeout.\");\n",
       "      root._bokeh_failed_load = true;\n",
       "    } else if (force !== true) {\n",
       "      var cell = $(document.getElementById(\"1226\")).parents('.cell').data().cell;\n",
       "      cell.output_area.append_execute_result(NB_LOAD_WARNING)\n",
       "    }\n",
       "\n",
       "  }\n",
       "\n",
       "  if (root._bokeh_is_loading === 0) {\n",
       "    console.debug(\"Bokeh: BokehJS loaded, going straight to plotting\");\n",
       "    run_inline_js();\n",
       "  } else {\n",
       "    load_libs(css_urls, js_urls, function() {\n",
       "      console.debug(\"Bokeh: BokehJS plotting callback run at\", now());\n",
       "      run_inline_js();\n",
       "    });\n",
       "  }\n",
       "}(window));"
      ],
      "application/vnd.bokehjs_load.v0+json": "\n(function(root) {\n  function now() {\n    return new Date();\n  }\n\n  var force = true;\n\n  if (typeof root._bokeh_onload_callbacks === \"undefined\" || force === true) {\n    root._bokeh_onload_callbacks = [];\n    root._bokeh_is_loading = undefined;\n  }\n\n  \n\n  \n  if (typeof (root._bokeh_timeout) === \"undefined\" || force === true) {\n    root._bokeh_timeout = Date.now() + 5000;\n    root._bokeh_failed_load = false;\n  }\n\n  var NB_LOAD_WARNING = {'data': {'text/html':\n     \"<div style='background-color: #fdd'>\\n\"+\n     \"<p>\\n\"+\n     \"BokehJS does not appear to have successfully loaded. If loading BokehJS from CDN, this \\n\"+\n     \"may be due to a slow or bad network connection. Possible fixes:\\n\"+\n     \"</p>\\n\"+\n     \"<ul>\\n\"+\n     \"<li>re-rerun `output_notebook()` to attempt to load from CDN again, or</li>\\n\"+\n     \"<li>use INLINE resources instead, as so:</li>\\n\"+\n     \"</ul>\\n\"+\n     \"<code>\\n\"+\n     \"from bokeh.resources import INLINE\\n\"+\n     \"output_notebook(resources=INLINE)\\n\"+\n     \"</code>\\n\"+\n     \"</div>\"}};\n\n  function display_loaded() {\n    var el = document.getElementById(\"1226\");\n    if (el != null) {\n      el.textContent = \"BokehJS is loading...\";\n    }\n    if (root.Bokeh !== undefined) {\n      if (el != null) {\n        el.textContent = \"BokehJS \" + root.Bokeh.version + \" successfully loaded.\";\n      }\n    } else if (Date.now() < root._bokeh_timeout) {\n      setTimeout(display_loaded, 100)\n    }\n  }\n\n\n  function run_callbacks() {\n    try {\n      root._bokeh_onload_callbacks.forEach(function(callback) {\n        if (callback != null)\n          callback();\n      });\n    } finally {\n      delete root._bokeh_onload_callbacks\n    }\n    console.debug(\"Bokeh: all callbacks have finished\");\n  }\n\n  function load_libs(css_urls, js_urls, callback) {\n    if (css_urls == null) css_urls = [];\n    if (js_urls == null) js_urls = [];\n\n    root._bokeh_onload_callbacks.push(callback);\n    if (root._bokeh_is_loading > 0) {\n      console.debug(\"Bokeh: BokehJS is being loaded, scheduling callback at\", now());\n      return null;\n    }\n    if (js_urls == null || js_urls.length === 0) {\n      run_callbacks();\n      return null;\n    }\n    console.debug(\"Bokeh: BokehJS not loaded, scheduling load and callback at\", now());\n    root._bokeh_is_loading = css_urls.length + js_urls.length;\n\n    function on_load() {\n      root._bokeh_is_loading--;\n      if (root._bokeh_is_loading === 0) {\n        console.debug(\"Bokeh: all BokehJS libraries/stylesheets loaded\");\n        run_callbacks()\n      }\n    }\n\n    function on_error() {\n      console.error(\"failed to load \" + url);\n    }\n\n    for (var i = 0; i < css_urls.length; i++) {\n      var url = css_urls[i];\n      const element = document.createElement(\"link\");\n      element.onload = on_load;\n      element.onerror = on_error;\n      element.rel = \"stylesheet\";\n      element.type = \"text/css\";\n      element.href = url;\n      console.debug(\"Bokeh: injecting link tag for BokehJS stylesheet: \", url);\n      document.body.appendChild(element);\n    }\n\n    for (var i = 0; i < js_urls.length; i++) {\n      var url = js_urls[i];\n      var element = document.createElement('script');\n      element.onload = on_load;\n      element.onerror = on_error;\n      element.async = false;\n      element.src = url;\n      console.debug(\"Bokeh: injecting script tag for BokehJS library: \", url);\n      document.head.appendChild(element);\n    }\n  };var element = document.getElementById(\"1226\");\n  if (element == null) {\n    console.error(\"Bokeh: ERROR: autoload.js configured with elementid '1226' but no matching script tag was found. \")\n    return false;\n  }\n\n  function inject_raw_css(css) {\n    const element = document.createElement(\"style\");\n    element.appendChild(document.createTextNode(css));\n    document.body.appendChild(element);\n  }\n\n  var js_urls = [\"https://cdn.pydata.org/bokeh/release/bokeh-1.3.4.min.js\", \"https://cdn.pydata.org/bokeh/release/bokeh-widgets-1.3.4.min.js\", \"https://cdn.pydata.org/bokeh/release/bokeh-tables-1.3.4.min.js\", \"https://cdn.pydata.org/bokeh/release/bokeh-gl-1.3.4.min.js\"];\n  var css_urls = [];\n\n  var inline_js = [\n    function(Bokeh) {\n      Bokeh.set_log_level(\"info\");\n    },\n    \n    function(Bokeh) {\n      \n    },\n    function(Bokeh) {} // ensure no trailing comma for IE\n  ];\n\n  function run_inline_js() {\n    \n    if ((root.Bokeh !== undefined) || (force === true)) {\n      for (var i = 0; i < inline_js.length; i++) {\n        inline_js[i].call(root, root.Bokeh);\n      }if (force === true) {\n        display_loaded();\n      }} else if (Date.now() < root._bokeh_timeout) {\n      setTimeout(run_inline_js, 100);\n    } else if (!root._bokeh_failed_load) {\n      console.log(\"Bokeh: BokehJS failed to load within specified timeout.\");\n      root._bokeh_failed_load = true;\n    } else if (force !== true) {\n      var cell = $(document.getElementById(\"1226\")).parents('.cell').data().cell;\n      cell.output_area.append_execute_result(NB_LOAD_WARNING)\n    }\n\n  }\n\n  if (root._bokeh_is_loading === 0) {\n    console.debug(\"Bokeh: BokehJS loaded, going straight to plotting\");\n    run_inline_js();\n  } else {\n    load_libs(css_urls, js_urls, function() {\n      console.debug(\"Bokeh: BokehJS plotting callback run at\", now());\n      run_inline_js();\n    });\n  }\n}(window));"
     },
     "metadata": {},
     "output_type": "display_data"
    },
    {
     "data": {
      "text/html": [
       "\n",
       "\n",
       "\n",
       "\n",
       "\n",
       "\n",
       "  <div class=\"bk-root\" id=\"bb0709c2-f0f0-4d4e-9692-e8f5908cb9f1\" data-root-id=\"1228\"></div>\n"
      ]
     },
     "metadata": {},
     "output_type": "display_data"
    },
    {
     "data": {
      "application/javascript": [
       "(function(root) {\n",
       "  function embed_document(root) {\n",
       "    \n",
       "  var docs_json = {\"bb27af09-c39f-40db-98ae-e64db5e28051\":{\"roots\":{\"references\":[{\"attributes\":{\"below\":[{\"id\":\"1237\",\"type\":\"LinearAxis\"}],\"center\":[{\"id\":\"1241\",\"type\":\"Grid\"},{\"id\":\"1246\",\"type\":\"Grid\"}],\"left\":[{\"id\":\"1242\",\"type\":\"LinearAxis\"}],\"plot_height\":400,\"renderers\":[{\"id\":\"1263\",\"type\":\"GlyphRenderer\"}],\"title\":{\"id\":\"1286\",\"type\":\"Title\"},\"toolbar\":{\"id\":\"1253\",\"type\":\"Toolbar\"},\"x_range\":{\"id\":\"1229\",\"type\":\"DataRange1d\"},\"x_scale\":{\"id\":\"1233\",\"type\":\"LinearScale\"},\"y_range\":{\"id\":\"1231\",\"type\":\"DataRange1d\"},\"y_scale\":{\"id\":\"1235\",\"type\":\"LinearScale\"}},\"id\":\"1228\",\"subtype\":\"Figure\",\"type\":\"Plot\"},{\"attributes\":{\"callback\":null},\"id\":\"1229\",\"type\":\"DataRange1d\"},{\"attributes\":{\"data_source\":{\"id\":\"1227\",\"type\":\"ColumnDataSource\"},\"glyph\":{\"id\":\"1261\",\"type\":\"Scatter\"},\"hover_glyph\":null,\"muted_glyph\":null,\"nonselection_glyph\":{\"id\":\"1262\",\"type\":\"Scatter\"},\"selection_glyph\":null,\"view\":{\"id\":\"1264\",\"type\":\"CDSView\"}},\"id\":\"1263\",\"type\":\"GlyphRenderer\"},{\"attributes\":{},\"id\":\"1247\",\"type\":\"PanTool\"},{\"attributes\":{\"overlay\":{\"id\":\"1291\",\"type\":\"BoxAnnotation\"}},\"id\":\"1249\",\"type\":\"BoxZoomTool\"},{\"attributes\":{},\"id\":\"1248\",\"type\":\"WheelZoomTool\"},{\"attributes\":{\"text\":\"\"},\"id\":\"1286\",\"type\":\"Title\"},{\"attributes\":{},\"id\":\"1292\",\"type\":\"UnionRenderers\"},{\"attributes\":{},\"id\":\"1250\",\"type\":\"SaveTool\"},{\"attributes\":{},\"id\":\"1293\",\"type\":\"Selection\"},{\"attributes\":{\"fill_alpha\":{\"value\":0.1},\"fill_color\":{\"value\":\"#1f77b4\"},\"line_alpha\":{\"value\":0.1},\"line_color\":{\"value\":\"#1f77b4\"},\"size\":{\"units\":\"screen\",\"value\":10},\"x\":{\"field\":\"x\"},\"y\":{\"field\":\"y\"}},\"id\":\"1262\",\"type\":\"Scatter\"},{\"attributes\":{},\"id\":\"1252\",\"type\":\"HelpTool\"},{\"attributes\":{},\"id\":\"1233\",\"type\":\"LinearScale\"},{\"attributes\":{},\"id\":\"1251\",\"type\":\"ResetTool\"},{\"attributes\":{\"active_drag\":\"auto\",\"active_inspect\":\"auto\",\"active_multi\":null,\"active_scroll\":{\"id\":\"1248\",\"type\":\"WheelZoomTool\"},\"active_tap\":\"auto\",\"tools\":[{\"id\":\"1247\",\"type\":\"PanTool\"},{\"id\":\"1248\",\"type\":\"WheelZoomTool\"},{\"id\":\"1249\",\"type\":\"BoxZoomTool\"},{\"id\":\"1250\",\"type\":\"SaveTool\"},{\"id\":\"1251\",\"type\":\"ResetTool\"},{\"id\":\"1252\",\"type\":\"HelpTool\"},{\"id\":\"1265\",\"type\":\"HoverTool\"}]},\"id\":\"1253\",\"type\":\"Toolbar\"},{\"attributes\":{\"callback\":null},\"id\":\"1231\",\"type\":\"DataRange1d\"},{\"attributes\":{},\"id\":\"1290\",\"type\":\"BasicTickFormatter\"},{\"attributes\":{\"source\":{\"id\":\"1227\",\"type\":\"ColumnDataSource\"}},\"id\":\"1264\",\"type\":\"CDSView\"},{\"attributes\":{},\"id\":\"1235\",\"type\":\"LinearScale\"},{\"attributes\":{\"formatter\":{\"id\":\"1290\",\"type\":\"BasicTickFormatter\"},\"ticker\":{\"id\":\"1238\",\"type\":\"BasicTicker\"}},\"id\":\"1237\",\"type\":\"LinearAxis\"},{\"attributes\":{\"callback\":null,\"tooltips\":[[\"token\",\"@token\"]]},\"id\":\"1265\",\"type\":\"HoverTool\"},{\"attributes\":{},\"id\":\"1238\",\"type\":\"BasicTicker\"},{\"attributes\":{\"bottom_units\":\"screen\",\"fill_alpha\":{\"value\":0.5},\"fill_color\":{\"value\":\"lightgrey\"},\"left_units\":\"screen\",\"level\":\"overlay\",\"line_alpha\":{\"value\":1.0},\"line_color\":{\"value\":\"black\"},\"line_dash\":[4,4],\"line_width\":{\"value\":2},\"render_mode\":\"css\",\"right_units\":\"screen\",\"top_units\":\"screen\"},\"id\":\"1291\",\"type\":\"BoxAnnotation\"},{\"attributes\":{\"ticker\":{\"id\":\"1238\",\"type\":\"BasicTicker\"}},\"id\":\"1241\",\"type\":\"Grid\"},{\"attributes\":{\"formatter\":{\"id\":\"1288\",\"type\":\"BasicTickFormatter\"},\"ticker\":{\"id\":\"1243\",\"type\":\"BasicTicker\"}},\"id\":\"1242\",\"type\":\"LinearAxis\"},{\"attributes\":{},\"id\":\"1243\",\"type\":\"BasicTicker\"},{\"attributes\":{},\"id\":\"1288\",\"type\":\"BasicTickFormatter\"},{\"attributes\":{\"dimension\":1,\"ticker\":{\"id\":\"1243\",\"type\":\"BasicTicker\"}},\"id\":\"1246\",\"type\":\"Grid\"},{\"attributes\":{\"callback\":null,\"data\":{\"color\":[\"blue\",\"blue\",\"blue\",\"blue\",\"blue\",\"blue\",\"blue\",\"blue\",\"blue\",\"blue\",\"blue\",\"blue\",\"blue\",\"blue\",\"blue\",\"blue\",\"blue\",\"blue\",\"blue\",\"blue\",\"blue\",\"blue\",\"blue\",\"blue\",\"blue\",\"blue\",\"blue\",\"blue\",\"blue\",\"blue\",\"blue\",\"blue\",\"blue\",\"blue\",\"blue\",\"blue\",\"blue\",\"blue\",\"blue\",\"blue\",\"blue\",\"blue\",\"blue\",\"blue\",\"blue\",\"blue\",\"blue\",\"blue\",\"blue\",\"blue\",\"blue\",\"blue\",\"blue\",\"blue\",\"blue\",\"blue\",\"blue\",\"blue\",\"blue\",\"blue\",\"blue\",\"blue\",\"blue\",\"blue\",\"blue\",\"blue\",\"blue\",\"blue\",\"blue\",\"blue\",\"blue\",\"blue\",\"blue\",\"blue\",\"blue\",\"blue\",\"blue\",\"blue\",\"blue\",\"blue\",\"blue\",\"blue\",\"blue\",\"blue\",\"blue\",\"blue\",\"blue\",\"blue\",\"blue\",\"blue\",\"blue\",\"blue\",\"blue\",\"blue\",\"blue\",\"blue\",\"blue\",\"blue\",\"blue\",\"blue\",\"blue\",\"blue\",\"blue\",\"blue\",\"blue\",\"blue\",\"blue\",\"blue\",\"blue\",\"blue\",\"blue\",\"blue\",\"blue\",\"blue\",\"blue\",\"blue\",\"blue\",\"blue\",\"blue\",\"blue\",\"blue\",\"blue\",\"blue\",\"blue\",\"blue\",\"blue\",\"blue\",\"blue\",\"blue\",\"blue\",\"blue\",\"blue\",\"blue\",\"blue\",\"blue\",\"blue\",\"blue\",\"blue\",\"blue\",\"blue\",\"blue\",\"blue\",\"blue\",\"blue\",\"blue\",\"blue\",\"blue\",\"blue\",\"blue\",\"blue\",\"blue\",\"blue\",\"blue\",\"blue\",\"blue\",\"blue\",\"blue\",\"blue\",\"blue\",\"blue\",\"blue\",\"blue\",\"blue\",\"blue\",\"blue\",\"blue\",\"blue\",\"blue\",\"blue\",\"blue\",\"blue\",\"blue\",\"blue\",\"blue\",\"blue\",\"blue\",\"blue\",\"blue\",\"blue\",\"blue\",\"blue\",\"blue\",\"blue\",\"blue\",\"blue\",\"blue\",\"blue\",\"blue\",\"blue\",\"blue\",\"blue\",\"blue\",\"blue\",\"blue\",\"blue\",\"blue\",\"blue\",\"blue\",\"blue\",\"blue\",\"blue\",\"blue\",\"blue\",\"blue\",\"blue\",\"blue\",\"blue\",\"blue\",\"blue\",\"blue\",\"blue\",\"blue\",\"blue\",\"blue\",\"blue\",\"blue\",\"blue\",\"blue\",\"blue\",\"blue\",\"blue\",\"blue\",\"blue\",\"blue\",\"blue\",\"blue\",\"blue\",\"blue\",\"blue\",\"blue\",\"blue\",\"blue\",\"blue\",\"blue\",\"blue\",\"blue\",\"blue\",\"blue\",\"blue\",\"blue\",\"blue\",\"blue\",\"blue\",\"blue\",\"blue\",\"blue\",\"blue\",\"blue\",\"blue\",\"blue\",\"blue\",\"blue\",\"blue\",\"blue\",\"blue\",\"blue\",\"blue\",\"blue\",\"blue\",\"blue\",\"blue\",\"blue\",\"blue\",\"blue\",\"blue\",\"blue\",\"blue\",\"blue\",\"blue\",\"blue\",\"blue\",\"blue\",\"blue\",\"blue\",\"blue\",\"blue\",\"blue\",\"blue\",\"blue\",\"blue\",\"blue\",\"blue\",\"blue\",\"blue\",\"blue\",\"blue\",\"blue\",\"blue\",\"blue\",\"blue\",\"blue\",\"blue\",\"blue\",\"blue\",\"blue\",\"blue\",\"blue\",\"blue\",\"blue\",\"blue\",\"blue\",\"blue\",\"blue\",\"blue\",\"blue\",\"blue\",\"blue\",\"blue\",\"blue\",\"blue\",\"blue\",\"blue\",\"blue\",\"blue\",\"blue\",\"blue\",\"blue\",\"blue\",\"blue\",\"blue\",\"blue\",\"blue\",\"blue\",\"blue\",\"blue\",\"blue\",\"blue\",\"blue\",\"blue\",\"blue\",\"blue\",\"blue\",\"blue\",\"blue\",\"blue\",\"blue\",\"blue\",\"blue\",\"blue\",\"blue\",\"blue\",\"blue\",\"blue\",\"blue\",\"blue\",\"blue\",\"blue\",\"blue\",\"blue\",\"blue\",\"blue\",\"blue\",\"blue\",\"blue\",\"blue\",\"blue\",\"blue\",\"blue\",\"blue\",\"blue\",\"blue\",\"blue\",\"blue\",\"blue\",\"blue\",\"blue\",\"blue\",\"blue\",\"blue\",\"blue\",\"blue\",\"blue\",\"blue\",\"blue\",\"blue\",\"blue\",\"blue\",\"blue\",\"blue\",\"blue\",\"blue\",\"blue\",\"blue\",\"blue\",\"blue\",\"blue\",\"blue\",\"blue\",\"blue\",\"blue\",\"blue\",\"blue\",\"blue\",\"blue\",\"blue\",\"blue\",\"blue\",\"blue\",\"blue\",\"blue\",\"blue\",\"blue\",\"blue\",\"blue\",\"blue\",\"blue\",\"blue\",\"blue\",\"blue\",\"blue\",\"blue\",\"blue\",\"blue\",\"blue\",\"blue\",\"blue\",\"blue\",\"blue\",\"blue\",\"blue\",\"blue\",\"blue\",\"blue\",\"blue\",\"blue\",\"blue\",\"blue\",\"blue\",\"blue\",\"blue\",\"blue\",\"blue\",\"blue\",\"blue\",\"blue\",\"blue\",\"blue\",\"blue\",\"blue\",\"blue\",\"blue\",\"blue\",\"blue\",\"blue\",\"blue\",\"blue\",\"blue\",\"blue\",\"blue\",\"blue\",\"blue\",\"blue\",\"blue\",\"blue\",\"blue\",\"blue\",\"blue\",\"blue\",\"blue\",\"blue\",\"blue\",\"blue\",\"blue\",\"blue\",\"blue\",\"blue\",\"blue\",\"blue\",\"blue\",\"blue\",\"blue\",\"blue\",\"blue\",\"blue\",\"blue\",\"blue\",\"blue\",\"blue\",\"blue\",\"blue\",\"blue\",\"blue\",\"blue\",\"blue\",\"blue\",\"blue\",\"blue\",\"blue\",\"blue\",\"blue\",\"blue\",\"blue\",\"blue\",\"blue\",\"blue\",\"blue\",\"blue\",\"blue\",\"blue\",\"blue\",\"blue\",\"blue\",\"blue\",\"blue\",\"blue\",\"blue\",\"blue\",\"blue\",\"blue\",\"blue\",\"blue\",\"blue\",\"blue\",\"blue\",\"blue\",\"blue\",\"blue\",\"blue\",\"blue\",\"blue\",\"blue\",\"blue\",\"blue\",\"blue\",\"blue\",\"blue\",\"blue\",\"blue\",\"blue\",\"blue\",\"blue\",\"blue\",\"blue\",\"blue\",\"blue\",\"blue\",\"blue\",\"blue\",\"blue\",\"blue\",\"blue\",\"blue\",\"blue\",\"blue\",\"blue\",\"blue\",\"blue\",\"blue\",\"blue\",\"blue\",\"blue\",\"blue\",\"blue\",\"blue\",\"blue\",\"blue\",\"blue\",\"blue\",\"blue\",\"blue\",\"blue\",\"blue\",\"blue\",\"blue\",\"blue\",\"blue\",\"blue\",\"blue\",\"blue\",\"blue\",\"blue\",\"blue\",\"blue\",\"blue\",\"blue\",\"blue\",\"blue\",\"blue\",\"blue\",\"blue\",\"blue\",\"blue\",\"blue\",\"blue\",\"blue\",\"blue\",\"blue\",\"blue\",\"blue\",\"blue\",\"blue\",\"blue\",\"blue\",\"blue\",\"blue\",\"blue\",\"blue\",\"blue\",\"blue\",\"blue\",\"blue\",\"blue\",\"blue\",\"blue\",\"blue\",\"blue\",\"blue\",\"blue\",\"blue\",\"blue\",\"blue\",\"blue\",\"blue\",\"blue\",\"blue\",\"blue\",\"blue\",\"blue\",\"blue\",\"blue\",\"blue\",\"blue\",\"blue\",\"blue\",\"blue\",\"blue\",\"blue\",\"blue\",\"blue\",\"blue\",\"blue\",\"blue\",\"blue\",\"blue\",\"blue\",\"blue\",\"blue\",\"blue\",\"blue\",\"blue\",\"blue\",\"blue\",\"blue\",\"blue\",\"blue\",\"blue\",\"blue\",\"blue\",\"blue\",\"blue\",\"blue\",\"blue\",\"blue\",\"blue\",\"blue\",\"blue\",\"blue\",\"blue\",\"blue\",\"blue\",\"blue\",\"blue\",\"blue\",\"blue\",\"blue\",\"blue\",\"blue\",\"blue\",\"blue\",\"blue\",\"blue\",\"blue\",\"blue\",\"blue\",\"blue\",\"blue\",\"blue\",\"blue\",\"blue\",\"blue\",\"blue\",\"blue\",\"blue\",\"blue\",\"blue\",\"blue\",\"blue\",\"blue\",\"blue\",\"blue\",\"blue\",\"blue\",\"blue\",\"blue\",\"blue\",\"blue\",\"blue\",\"blue\",\"blue\",\"blue\",\"blue\",\"blue\",\"blue\",\"blue\",\"blue\",\"blue\",\"blue\",\"blue\",\"blue\",\"blue\",\"blue\",\"blue\",\"blue\",\"blue\",\"blue\",\"blue\",\"blue\",\"blue\",\"blue\",\"blue\",\"blue\",\"blue\",\"blue\",\"blue\",\"blue\",\"blue\",\"blue\",\"blue\",\"blue\",\"blue\",\"blue\",\"blue\",\"blue\",\"blue\",\"blue\",\"blue\",\"blue\",\"blue\",\"blue\",\"blue\",\"blue\",\"blue\",\"blue\",\"blue\",\"blue\",\"blue\",\"blue\",\"blue\",\"blue\",\"blue\",\"blue\",\"blue\",\"blue\",\"blue\",\"blue\",\"blue\",\"blue\",\"blue\",\"blue\",\"blue\",\"blue\",\"blue\",\"blue\",\"blue\",\"blue\",\"blue\",\"blue\",\"blue\",\"blue\",\"blue\",\"blue\",\"blue\",\"blue\",\"blue\",\"blue\",\"blue\",\"blue\",\"blue\",\"blue\",\"blue\",\"blue\",\"blue\",\"blue\",\"blue\",\"blue\",\"blue\",\"blue\",\"blue\",\"blue\",\"blue\",\"blue\",\"blue\",\"blue\",\"blue\",\"blue\",\"blue\",\"blue\",\"blue\",\"blue\",\"blue\",\"blue\",\"blue\",\"blue\",\"blue\",\"blue\",\"blue\",\"blue\",\"blue\",\"blue\",\"blue\",\"blue\",\"blue\",\"blue\",\"blue\",\"blue\",\"blue\",\"blue\",\"blue\",\"blue\",\"blue\",\"blue\",\"blue\",\"blue\",\"blue\",\"blue\",\"blue\",\"blue\",\"blue\",\"blue\",\"blue\",\"blue\",\"blue\",\"blue\",\"blue\",\"blue\",\"blue\",\"blue\",\"blue\",\"blue\",\"blue\",\"blue\",\"blue\",\"blue\",\"blue\",\"blue\",\"blue\",\"blue\",\"blue\",\"blue\",\"blue\",\"blue\",\"blue\",\"blue\",\"blue\",\"blue\",\"blue\",\"blue\",\"blue\",\"blue\",\"blue\",\"blue\",\"blue\",\"blue\",\"blue\",\"blue\",\"blue\",\"blue\",\"blue\",\"blue\",\"blue\",\"blue\",\"blue\",\"blue\",\"blue\",\"blue\",\"blue\",\"blue\",\"blue\",\"blue\",\"blue\",\"blue\",\"blue\",\"blue\",\"blue\",\"blue\",\"blue\",\"blue\",\"blue\",\"blue\",\"blue\",\"blue\",\"blue\",\"blue\",\"blue\",\"blue\",\"blue\",\"blue\",\"blue\",\"blue\",\"blue\",\"blue\",\"blue\",\"blue\",\"blue\",\"blue\",\"blue\",\"blue\",\"blue\",\"blue\",\"blue\",\"blue\",\"blue\",\"blue\",\"blue\",\"blue\",\"blue\",\"blue\",\"blue\",\"blue\",\"blue\",\"blue\",\"blue\",\"blue\",\"blue\",\"blue\",\"blue\",\"blue\",\"blue\",\"blue\",\"blue\",\"blue\",\"blue\",\"blue\",\"blue\",\"blue\",\"blue\",\"blue\",\"blue\",\"blue\",\"blue\",\"blue\",\"blue\",\"blue\",\"blue\",\"blue\",\"blue\",\"blue\",\"blue\",\"blue\",\"blue\",\"blue\",\"blue\",\"blue\",\"blue\",\"blue\",\"blue\",\"blue\",\"blue\",\"blue\",\"blue\",\"blue\",\"blue\",\"blue\",\"blue\",\"blue\",\"blue\",\"blue\",\"blue\",\"blue\",\"blue\",\"blue\",\"blue\",\"blue\",\"blue\",\"blue\",\"blue\",\"blue\",\"blue\",\"blue\",\"blue\",\"blue\",\"blue\",\"blue\",\"blue\",\"blue\",\"blue\",\"blue\",\"blue\",\"blue\",\"blue\",\"blue\",\"blue\",\"blue\",\"blue\",\"blue\",\"blue\",\"blue\",\"blue\",\"blue\",\"blue\"],\"token\":[\"<user>\",\".\",\":\",\"rt\",\",\",\"<repeat>\",\"<hashtag>\",\"<number>\",\"<url>\",\"!\",\"i\",\"a\",\"\\\"\",\"the\",\"?\",\"you\",\"to\",\"(\",\"<allcaps>\",\"<elong>\",\")\",\"me\",\"de\",\"<smile>\",\"\\uff01\",\"que\",\"and\",\"\\u3002\",\"-\",\"my\",\"no\",\"\\u3001\",\"is\",\"it\",\"\\u2026\",\"in\",\"n\",\"for\",\"/\",\"of\",\"la\",\"'s\",\"*\",\"do\",\"n't\",\"that\",\"on\",\"y\",\"'\",\"e\",\"o\",\"u\",\"en\",\"this\",\"el\",\"so\",\"be\",\"'m\",\"with\",\"just\",\">\",\"your\",\"^\",\"like\",\"have\",\"te\",\"at\",\"\\uff1f\",\"love\",\"se\",\"are\",\"<\",\"m\",\"r\",\"if\",\"all\",\"b\",\"\\u30fb\",\"not\",\"but\",\"we\",\"es\",\"ya\",\"&\",\"follow\",\"up\",\"what\",\"get\",\"lol\",\"un\",\"\\u2665\",\"lo\",\"when\",\"was\",\"\\u201c\",\"\\u201d\",\"one\",\"por\",\"si\",\"out\",\"_\",\"mi\",\"can\",\"<sadface>\",\"\\u0645\\u0646\",\"\\u2661\",\"\\u00b4\",\"he\",\"con\",\"they\",\"now\",\"go\",\"\\u060c\",\"para\",\"los\",\"know\",\"haha\",\"good\",\"tu\",\"back\",\"~\",\"about\",\"new\",\";\",\"as\",\"day\",\"how\",\"who\",\"will\",\"want\",\"people\",\"yo\",\"eu\",\"from\",\"di\",\"time\",\"<heart>\",\"s\",\"aku\",\"da\",\"'re\",\"<lolface>\",\"una\",\"got\",\"las\",\"more\",\"x\",\"she\",\"today\",\"\\uff08\",\">>\",\"k\",\"by\",\"or\",\"\\u0641\\u064a\",\"\\uff65\",\"too\",\"le\",\"\\u00e9\",\"|\",\"[\",\"\\uff09\",\"]\",\"see\",\"why\",\"yg\",\"ca\",\"como\",\"her\",\"\\u2014\",\"q\",\"need\",\"an\",\"na\",\"\\u7b11\",\"there\",\"\\u03c9\",\"happy\",\"im\",\"mas\",\"je\",\"life\",\"really\",\"make\",\"yang\",\"shit\",\"think\",\"t\",\"\\u2764\",\"n\\u00e3o\",\"never\",\"some\",\"\\uff5e\",\"oh\",\"\\u2605\",\"did\",\"would\",\"del\",\"`\",\"d\",\"please\",\"via\",\"much\",\"fuck\",\"al\",\"dia\",\"$\",\"\\u0648\",\"right\",\"best\",\"c\",\"going\",\"\\u0627\\u0644\\u0644\\u0647\",\"pero\",\"only\",\"has\",\"\\u266a\",\"'ll\",\"twitter\",\"=\",\"hahaha\",\"its\",\"nn\",\"\\uff40\",\"\\u00bf\",\"am\",\"say\",\"<neutralface>\",\"them\",\"here\",\"\\u0644\\u0627\",\"off\",\"still\",\"dan\",\"+\",\"night\",\"w\",\"ada\",\"someone\",\"even\",\"then\",\"\\u2606\",\"ni\",\"come\",\"com\",\"always\",\"man\",\"'ve\",\"been\",\"his\",\"itu\",\"\\u0639\\u0644\\u0649\",\"-_-\",\"\\u263a\",\"over\",\"um\",\"\\u0645\\u0627\",\"hate\",\"girl\",\"ai\",\"had\",\"pra\",\"todo\",\"mais\",\"feel\",\"let\",\"ini\",\"because\",\"\\uff9f\",\"thanks\",\"ah\",\"way\",\"ever\",\"look\",\"tweet\",\"followers\",\"should\",\"our\",\"xd\",\"aja\",\"esta\",\"school\",\"him\",\"ser\",\"take\",\"than\",\"video\",\"em\",\"last\",\"wanna\",\"does\",\"us\",\"miss\",\"l\",\"ga\",\"better\",\"well\",\"could\",\"\\u25bd\",\"%\",\"apa\",\"cuando\",\"team\",\"\\u2714\",\"@\",\"ok\",\"\\u061f\",\"\\u2022\",\"vida\",\"quiero\",\"les\",\"being\",\"real\",\"down\",\"kamu\",\"everyone\",\"gonna\",\"live\",\"tonight\",\"yes\",\"work\",\"ass\",\"retweet\",\"nada\",\"sama\",\"first\",\"<<\",\"photo\",\"tomorrow\",\"where\",\"god\",\"son\",\"ke\",\"ta\",\"f\",\"home\",\"lagi\",\"thank\",\"birthday\",\"\\u2588\",\"ha\",\"great\",\"lmao\",\"omg\",\"morning\",\"m\\u00e1s\",\"mau\",\"baby\",\"dont\",\"\\uff61\",\"their\",\"p\",\"things\",\"game\",\"pas\",\"bad\",\"year\",\"yeah\",\"su\",\"bitch\",\"\\u0432\",\"stop\",\"hoy\",\"something\",\"meu\",\"tak\",\"gak\",\"world\",\"amor\",\"h\",\"\\\\\",\"ver\",\"\\uff1b\",\"porque\",\"give\",\"these\",\"\\u0627\\u0644\\u0644\\u0647\\u0645\",\"were\",\"hay\",\"sleep\",\"gue\",\"every\",\"friends\",\"uma\",\"tell\",\"amo\",\"vou\",\"bien\",\"\\u00a1\",\"again\",\"\\uff3e\",\"\\uff0f\",\"done\",\"after\",\"todos\",\"girls\",\"guys\",\"getting\",\"big\",\"wait\",\"justin\",\"eh\",\"\\u2192\",\"kan\",\"kita\",\"jajaja\",\"wish\",\"said\",\"fucking\",\"show\",\"thing\",\"next\",\"voc\\u00ea\",\"nos\",\"little\",\"tengo\",\"keep\",\"person\",\"''\",\"\\u2200\",\"hope\",\"\\u0643\\u0644\",\"hey\",\"bisa\",\"free\",\"made\",\"foto\",\"va\",\"everything\",\"iya\",\"nigga\",\"eso\",\"et\",\"watch\",\"music\",\"week\",\"talk\",\"ne\",\"solo\",\"gente\",\"udah\",\"\\uff1a\",\"--\",\"\\uff3c\",\"mejor\",\"facebook\",\"ma\",\"v\",\"phone\",\"most\",\"same\",\"okay\",\"ik\",\"before\",\"minha\",\"days\",\"g\",\"ti\",\"damn\",\"nice\",\"voy\",\"vai\",\"call\",\"long\",\"tapi\",\"http\",\"sin\",\"nunca\",\"doing\",\"other\",\"find\",\"il\",\"sa\",\"sorry\",\"nya\",\"orang\",\"\\u00b0\",\"hard\",\"mean\",\"die\",\"\\u0627\\u0644\\u0644\\u064a\",\"tem\",\"soy\",\"este\",\"kalo\",\"s\\u00f3\",\"th\",\"win\",\"nothing\",\"into\",\"face\",\"cute\",\"'d\",\"gracias\",\"lah\",\"\\u0438\",\"any\",\"play\",\"\\u2190\",\"ko\",\"text\",\"\\u2323\",\"estoy\",\"tau\",\"ur\",\"buat\",\"#\",\"cause\",\"\\u044f\",\"put\",\"kau\",\"siempre\",\"juga\",\"casa\",\"\\u0623\\u0646\",\"help\",\"start\",\"feliz\",\"old\",\"ir\",\"very\",\"care\",\"bir\",\"makes\",\"song\",\"check\",\"watching\",\"ahora\",\"jadi\",\"os\",\"may\",\"friend\",\"beautiful\",\"heart\",\"ka\",\"vc\",\"mundo\",\"\\u043d\\u0430\",\"sure\",\"tan\",\"pretty\",\"aqui\",\"\\u043d\\u0435\",\"house\",\"\\u0631\\u062a\\u0648\\u064a\\u062a\",\"\\u064a\\u0627\",\"ja\",\"true\",\"muy\",\"away\",\"already\",\"actually\",\"believe\",\"try\",\"many\",\"ma\\u00f1ana\",\"mis\",\"lu\",\"those\",\"hot\",\"qu\\u00e9\",\"mal\",\"\\u0639\\u0646\",\"though\",\"ask\",\"amazing\",\"bed\",\"}\",\"two\",\"mom\",\"d\\u00eda\",\"ve\",\"dari\",\"gameinsight\",\"stay\",\"fun\",\"around\",\"van\",\"cont\",\"ready\",\"money\",\"bu\",\"funny\",\"cool\",\"hair\",\"\\u00e0\",\"tho\",\"{\",\"wo\",\"hi\",\"name\",\"tiene\",\"hahahaha\",\"pa\",\"algo\",\"gotta\",\"\\u0648\\u0644\\u0627\",\"boy\",\"another\",\"c'est\",\"hari\",\"jajajaja\",\"having\",\"cara\",\"jaja\",\"dm\",\"looking\",\"top\",\"android\",\"dah\",\"wow\",\"\\u2591\",\"eres\",\"ben\",\"must\",\"news\",\"met\",\"est\\u00e1\",\"nih\",\"family\",\"black\",\"thought\",\"nak\",\"super\",\"end\",\"hace\",\"remember\",\"ama\",\"party\",\"cant\",\"vamos\",\"anything\",\"anyone\",\"\\u0641\\u0648\\u0644\\u0648\",\"perfect\",\"guy\",\"vez\",\"christmas\",\"dos\",\"bueno\",\"nao\",\"years\",\"vote\",\"dormir\",\"bro\",\"else\",\"quien\",\"untuk\",\"jangan\",\"myself\",\"head\",\"mind\",\"gua\",\"talking\",\"while\",\"dat\",\"food\",\"\\u0434\",\"coming\",\"wkwk\",\"trying\",\"saya\",\"mucho\",\"without\",\"wrong\",\"\\u2019s\",\"baru\",\"__\",\"hehe\",\"hacer\",\"lot\",\"followed\",\"crazy\",\"hell\",\"feeling\",\"des\",\"kok\",\"j\",\"stats\",\"j'\",\"\\u0627\\u0646\",\"tweets\",\"non\",\"cosas\",\"era\",\"high\",\"niggas\",\"change\",\"movie\",\"xx\",\"mad\",\"sih\",\"sometimes\",\"deh\",\"allah\",\"through\",\"pour\",\"ela\",\"soon\",\"gone\",\"playing\",\"smile\",\"bukan\",\"tv\",\"fans\",\"hasta\",\"akan\",\"y'\",\"looks\",\"isso\",\"\\u270c\",\"tired\",\"boys\",\"might\",\"dong\",\"lg\",\"use\",\"maybe\",\"until\",\"menos\",\"own\",\"dengan\",\"eat\",\"ou\",\"weekend\",\"\\u02d8\",\"class\",\"ele\",\"harry\",\"iphone\",\"friday\",\"single\",\"ff\",\"awesome\",\"bout\",\"muito\",\"hoje\",\"\\u00ac\",\"dios\",\"such\",\"estar\",\"j\\u00e1\",\"quando\",\"esa\",\"making\",\"\\u2501\",\"times\",\"lmfao\",\"gw\",\"moment\",\"yet\",\"aw\",\"smh\",\"banget\",\"masih\",\"qui\",\"quem\",\"\\u2013\",\"leave\",\"du\",\"une\",\"guess\",\"hit\",\"\\u0441\",\"pm\",\"since\",\"pues\",\"est\",\"job\",\"\\uff89\",\"mana\",\"bom\",\"siapa\",\"suka\",\"bieber\",\"mention\",\"lebih\",\"favorite\",\"bitches\",\"forever\",\"\\u0644\\u064a\",\"final\",\"read\",\"alguien\",\"open\",\"yourself\",\"ese\",\"che\",\"sex\",\"yaa\",\"car\",\"direction\",\"tidak\",\"seu\",\"gets\",\"left\",\"re\",\"jam\",\"enough\",\"\\u0625\\u0644\\u0627\",\"once\",\"\\u2019\",\"part\",\"cada\",\"\\u5b9a\\u671f\",\"\\u0644\\u0643\",\"een\",\"seen\",\"kak\",\"as\\u00ed\",\"nem\",\"\\u0639\\u0645\\u0644\",\"white\",\"told\",\"says\",\"esto\",\"sad\",\"mo\",\"fue\",\"yah\",\"summer\",\"\\u0647\",\"\\u2b55\",\"\\u00bb\",\"thats\",\"\\u0645\\u0639\",\"posted\",\"wants\",\"agora\",\"together\",\"fan\",\"men\",\"hear\",\"full\",\"\\u2600\",\"sigo\",\"pq\",\"dulu\",\"plus\",\"foi\",\"tudo\",\"\\u0647\\u0648\",\"ill\",\"\\u3042\",\"thinking\",\"wtf\",\"pagi\",\"mama\",\"kalau\",\"hati\",\"sexy\",\"sayang\",\"baik\",\"semua\",\"hola\",\"went\",\"vos\",\"tanto\",\"finally\",\"fb\",\"sea\",\"stupid\",\"tus\",\"seriously\",\"hora\",\"min\",\"pic\",\"estas\",\"turn\",\"hours\",\"excited\",\"nah\",\"buy\",\"saying\",\"mah\",\"break\",\"needs\",\"ce\",\"room\",\"choice\",\"far\",\"dead\",\"quero\",\"saw\",\"kids\",\"lil\",\"whole\",\"puede\",\"fall\",\"sus\",\"lost\",\"asi\",\"word\",\"\\u2639\",\"also\",\"\\u0631\\u064a\\u062a\\u0648\\u064a\\u062a\",\"probably\",\"everybody\",\"tarde\",\"run\",\"sei\",\"follback\",\"forget\",\"sweet\",\"welcome\",\"selamat\",\"\\uff3f\",\"sur\",\"place\",\"gusta\",\"sabe\",\"androidgames\",\"tp\",\"tiempo\",\"\\u0628\\u0633\",\"sou\",\"tuh\",\"vs\",\"eyes\",\"\\u0627\\u0646\\u0627\",\"picture\",\"das\",\"meet\",\"anak\",\"persona\",\"essa\",\"bored\",\"following\",\"nadie\",\"nobody\",\"dice\",\"alone\",\"sick\",\"red\",\"city\",\"cinta\",\"\\u6708\",\"linda\",\"dream\",\"story\",\"km\",\"het\",\"waiting\",\"^_^\",\"mine\",\"\\u0447\\u0442\\u043e\",\"reason\",\"kk\",\"\\u0644\\u0648\",\"online\",\"fast\",\"udh\",\"wanted\",\"op\",\"others\",\"gay\",\"n\\u2019t\",\"used\",\"sem\",\"understand\",\"moi\",\"sm\",\"aint\",\"donde\",\"bem\",\"which\",\"ng\",\"followback\",\"punya\",\"late\",\"anda\",\"tidur\",\"puedo\",\"early\",\"nd\",\"personas\",\"banyak\",\"\\u2705\",\"\\u278a\",\"trust\",\"noche\",\"tl\",\"\\uff1e\",\"\\u00ab\",\"af\",\"move\",\"pro\",\"bring\",\"ku\",\"called\",\"relationship\",\"idk\",\"hurt\",\"st\",\"pernah\",\"pessoas\",\"hello\",\"uno\",\"unfollowers\",\"cry\"],\"x\":{\"__ndarray__\":\"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\",\"dtype\":\"float32\",\"shape\":[1000]},\"y\":{\"__ndarray__\":\"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\",\"dtype\":\"float32\",\"shape\":[1000]}},\"selected\":{\"id\":\"1293\",\"type\":\"Selection\"},\"selection_policy\":{\"id\":\"1292\",\"type\":\"UnionRenderers\"}},\"id\":\"1227\",\"type\":\"ColumnDataSource\"},{\"attributes\":{\"fill_alpha\":{\"value\":0.25},\"fill_color\":{\"field\":\"color\"},\"line_alpha\":{\"value\":0.25},\"line_color\":{\"field\":\"color\"},\"size\":{\"units\":\"screen\",\"value\":10},\"x\":{\"field\":\"x\"},\"y\":{\"field\":\"y\"}},\"id\":\"1261\",\"type\":\"Scatter\"}],\"root_ids\":[\"1228\"]},\"title\":\"Bokeh Application\",\"version\":\"1.3.4\"}};\n",
       "  var render_items = [{\"docid\":\"bb27af09-c39f-40db-98ae-e64db5e28051\",\"roots\":{\"1228\":\"bb0709c2-f0f0-4d4e-9692-e8f5908cb9f1\"}}];\n",
       "  root.Bokeh.embed.embed_items_notebook(docs_json, render_items);\n",
       "\n",
       "  }\n",
       "  if (root.Bokeh !== undefined) {\n",
       "    embed_document(root);\n",
       "  } else {\n",
       "    var attempts = 0;\n",
       "    var timer = setInterval(function(root) {\n",
       "      if (root.Bokeh !== undefined) {\n",
       "        embed_document(root);\n",
       "        clearInterval(timer);\n",
       "      }\n",
       "      attempts++;\n",
       "      if (attempts > 100) {\n",
       "        console.log(\"Bokeh: ERROR: Unable to run BokehJS code because BokehJS library is missing\");\n",
       "        clearInterval(timer);\n",
       "      }\n",
       "    }, 10, root)\n",
       "  }\n",
       "})(window);"
      ],
      "application/vnd.bokehjs_exec.v0+json": ""
     },
     "metadata": {
      "application/vnd.bokehjs_exec.v0+json": {
       "id": "1228"
      }
     },
     "output_type": "display_data"
    },
    {
     "data": {
      "text/html": [
       "<div style=\"display: table;\"><div style=\"display: table-row;\"><div style=\"display: table-cell;\"><b title=\"bokeh.plotting.figure.Figure\">Figure</b>(</div><div style=\"display: table-cell;\">id&nbsp;=&nbsp;'1228', <span id=\"1349\" style=\"cursor: pointer;\">&hellip;)</span></div></div><div class=\"1348\" style=\"display: none;\"><div style=\"display: table-cell;\"></div><div style=\"display: table-cell;\">above&nbsp;=&nbsp;[],</div></div><div class=\"1348\" style=\"display: none;\"><div style=\"display: table-cell;\"></div><div style=\"display: table-cell;\">align&nbsp;=&nbsp;'start',</div></div><div class=\"1348\" style=\"display: none;\"><div style=\"display: table-cell;\"></div><div style=\"display: table-cell;\">aspect_ratio&nbsp;=&nbsp;None,</div></div><div class=\"1348\" style=\"display: none;\"><div style=\"display: table-cell;\"></div><div style=\"display: table-cell;\">aspect_scale&nbsp;=&nbsp;1,</div></div><div class=\"1348\" style=\"display: none;\"><div style=\"display: table-cell;\"></div><div style=\"display: table-cell;\">background&nbsp;=&nbsp;None,</div></div><div class=\"1348\" style=\"display: none;\"><div style=\"display: table-cell;\"></div><div style=\"display: table-cell;\">background_fill_alpha&nbsp;=&nbsp;{'value': 1.0},</div></div><div class=\"1348\" style=\"display: none;\"><div style=\"display: table-cell;\"></div><div style=\"display: table-cell;\">background_fill_color&nbsp;=&nbsp;{'value': '#ffffff'},</div></div><div class=\"1348\" style=\"display: none;\"><div style=\"display: table-cell;\"></div><div style=\"display: table-cell;\">below&nbsp;=&nbsp;[LinearAxis(id='1237', ...)],</div></div><div class=\"1348\" style=\"display: none;\"><div style=\"display: table-cell;\"></div><div style=\"display: table-cell;\">border_fill_alpha&nbsp;=&nbsp;{'value': 1.0},</div></div><div class=\"1348\" style=\"display: none;\"><div style=\"display: table-cell;\"></div><div style=\"display: table-cell;\">border_fill_color&nbsp;=&nbsp;{'value': '#ffffff'},</div></div><div class=\"1348\" style=\"display: none;\"><div style=\"display: table-cell;\"></div><div style=\"display: table-cell;\">center&nbsp;=&nbsp;[Grid(id='1241', ...), Grid(id='1246', ...)],</div></div><div class=\"1348\" style=\"display: none;\"><div style=\"display: table-cell;\"></div><div style=\"display: table-cell;\">css_classes&nbsp;=&nbsp;[],</div></div><div class=\"1348\" style=\"display: none;\"><div style=\"display: table-cell;\"></div><div style=\"display: table-cell;\">disabled&nbsp;=&nbsp;False,</div></div><div class=\"1348\" style=\"display: none;\"><div style=\"display: table-cell;\"></div><div style=\"display: table-cell;\">extra_x_ranges&nbsp;=&nbsp;{},</div></div><div class=\"1348\" style=\"display: none;\"><div style=\"display: table-cell;\"></div><div style=\"display: table-cell;\">extra_y_ranges&nbsp;=&nbsp;{},</div></div><div class=\"1348\" style=\"display: none;\"><div style=\"display: table-cell;\"></div><div style=\"display: table-cell;\">frame_height&nbsp;=&nbsp;None,</div></div><div class=\"1348\" style=\"display: none;\"><div style=\"display: table-cell;\"></div><div style=\"display: table-cell;\">frame_width&nbsp;=&nbsp;None,</div></div><div class=\"1348\" style=\"display: none;\"><div style=\"display: table-cell;\"></div><div style=\"display: table-cell;\">height&nbsp;=&nbsp;None,</div></div><div class=\"1348\" style=\"display: none;\"><div style=\"display: table-cell;\"></div><div style=\"display: table-cell;\">height_policy&nbsp;=&nbsp;'auto',</div></div><div class=\"1348\" style=\"display: none;\"><div style=\"display: table-cell;\"></div><div style=\"display: table-cell;\">hidpi&nbsp;=&nbsp;True,</div></div><div class=\"1348\" style=\"display: none;\"><div style=\"display: table-cell;\"></div><div style=\"display: table-cell;\">js_event_callbacks&nbsp;=&nbsp;{},</div></div><div class=\"1348\" style=\"display: none;\"><div style=\"display: table-cell;\"></div><div style=\"display: table-cell;\">js_property_callbacks&nbsp;=&nbsp;{},</div></div><div class=\"1348\" style=\"display: none;\"><div style=\"display: table-cell;\"></div><div style=\"display: table-cell;\">left&nbsp;=&nbsp;[LinearAxis(id='1242', ...)],</div></div><div class=\"1348\" style=\"display: none;\"><div style=\"display: table-cell;\"></div><div style=\"display: table-cell;\">lod_factor&nbsp;=&nbsp;10,</div></div><div class=\"1348\" style=\"display: none;\"><div style=\"display: table-cell;\"></div><div style=\"display: table-cell;\">lod_interval&nbsp;=&nbsp;300,</div></div><div class=\"1348\" style=\"display: none;\"><div style=\"display: table-cell;\"></div><div style=\"display: table-cell;\">lod_threshold&nbsp;=&nbsp;2000,</div></div><div class=\"1348\" style=\"display: none;\"><div style=\"display: table-cell;\"></div><div style=\"display: table-cell;\">lod_timeout&nbsp;=&nbsp;500,</div></div><div class=\"1348\" style=\"display: none;\"><div style=\"display: table-cell;\"></div><div style=\"display: table-cell;\">margin&nbsp;=&nbsp;(0, 0, 0, 0),</div></div><div class=\"1348\" style=\"display: none;\"><div style=\"display: table-cell;\"></div><div style=\"display: table-cell;\">match_aspect&nbsp;=&nbsp;False,</div></div><div class=\"1348\" style=\"display: none;\"><div style=\"display: table-cell;\"></div><div style=\"display: table-cell;\">max_height&nbsp;=&nbsp;None,</div></div><div class=\"1348\" style=\"display: none;\"><div style=\"display: table-cell;\"></div><div style=\"display: table-cell;\">max_width&nbsp;=&nbsp;None,</div></div><div class=\"1348\" style=\"display: none;\"><div style=\"display: table-cell;\"></div><div style=\"display: table-cell;\">min_border&nbsp;=&nbsp;5,</div></div><div class=\"1348\" style=\"display: none;\"><div style=\"display: table-cell;\"></div><div style=\"display: table-cell;\">min_border_bottom&nbsp;=&nbsp;None,</div></div><div class=\"1348\" style=\"display: none;\"><div style=\"display: table-cell;\"></div><div style=\"display: table-cell;\">min_border_left&nbsp;=&nbsp;None,</div></div><div class=\"1348\" style=\"display: none;\"><div style=\"display: table-cell;\"></div><div style=\"display: table-cell;\">min_border_right&nbsp;=&nbsp;None,</div></div><div class=\"1348\" style=\"display: none;\"><div style=\"display: table-cell;\"></div><div style=\"display: table-cell;\">min_border_top&nbsp;=&nbsp;None,</div></div><div class=\"1348\" style=\"display: none;\"><div style=\"display: table-cell;\"></div><div style=\"display: table-cell;\">min_height&nbsp;=&nbsp;None,</div></div><div class=\"1348\" style=\"display: none;\"><div style=\"display: table-cell;\"></div><div style=\"display: table-cell;\">min_width&nbsp;=&nbsp;None,</div></div><div class=\"1348\" style=\"display: none;\"><div style=\"display: table-cell;\"></div><div style=\"display: table-cell;\">name&nbsp;=&nbsp;None,</div></div><div class=\"1348\" style=\"display: none;\"><div style=\"display: table-cell;\"></div><div style=\"display: table-cell;\">outline_line_alpha&nbsp;=&nbsp;{'value': 1.0},</div></div><div class=\"1348\" style=\"display: none;\"><div style=\"display: table-cell;\"></div><div style=\"display: table-cell;\">outline_line_cap&nbsp;=&nbsp;'butt',</div></div><div class=\"1348\" style=\"display: none;\"><div style=\"display: table-cell;\"></div><div style=\"display: table-cell;\">outline_line_color&nbsp;=&nbsp;{'value': '#e5e5e5'},</div></div><div class=\"1348\" style=\"display: none;\"><div style=\"display: table-cell;\"></div><div style=\"display: table-cell;\">outline_line_dash&nbsp;=&nbsp;[],</div></div><div class=\"1348\" style=\"display: none;\"><div style=\"display: table-cell;\"></div><div style=\"display: table-cell;\">outline_line_dash_offset&nbsp;=&nbsp;0,</div></div><div class=\"1348\" style=\"display: none;\"><div style=\"display: table-cell;\"></div><div style=\"display: table-cell;\">outline_line_join&nbsp;=&nbsp;'bevel',</div></div><div class=\"1348\" style=\"display: none;\"><div style=\"display: table-cell;\"></div><div style=\"display: table-cell;\">outline_line_width&nbsp;=&nbsp;{'value': 1},</div></div><div class=\"1348\" style=\"display: none;\"><div style=\"display: table-cell;\"></div><div style=\"display: table-cell;\">output_backend&nbsp;=&nbsp;'canvas',</div></div><div class=\"1348\" style=\"display: none;\"><div style=\"display: table-cell;\"></div><div style=\"display: table-cell;\">plot_height&nbsp;=&nbsp;400,</div></div><div class=\"1348\" style=\"display: none;\"><div style=\"display: table-cell;\"></div><div style=\"display: table-cell;\">plot_width&nbsp;=&nbsp;600,</div></div><div class=\"1348\" style=\"display: none;\"><div style=\"display: table-cell;\"></div><div style=\"display: table-cell;\">renderers&nbsp;=&nbsp;[GlyphRenderer(id='1263', ...)],</div></div><div class=\"1348\" style=\"display: none;\"><div style=\"display: table-cell;\"></div><div style=\"display: table-cell;\">reset_policy&nbsp;=&nbsp;'standard',</div></div><div class=\"1348\" style=\"display: none;\"><div style=\"display: table-cell;\"></div><div style=\"display: table-cell;\">right&nbsp;=&nbsp;[],</div></div><div class=\"1348\" style=\"display: none;\"><div style=\"display: table-cell;\"></div><div style=\"display: table-cell;\">sizing_mode&nbsp;=&nbsp;None,</div></div><div class=\"1348\" style=\"display: none;\"><div style=\"display: table-cell;\"></div><div style=\"display: table-cell;\">subscribed_events&nbsp;=&nbsp;[],</div></div><div class=\"1348\" style=\"display: none;\"><div style=\"display: table-cell;\"></div><div style=\"display: table-cell;\">tags&nbsp;=&nbsp;[],</div></div><div class=\"1348\" style=\"display: none;\"><div style=\"display: table-cell;\"></div><div style=\"display: table-cell;\">title&nbsp;=&nbsp;Title(id='1286', ...),</div></div><div class=\"1348\" style=\"display: none;\"><div style=\"display: table-cell;\"></div><div style=\"display: table-cell;\">title_location&nbsp;=&nbsp;'above',</div></div><div class=\"1348\" style=\"display: none;\"><div style=\"display: table-cell;\"></div><div style=\"display: table-cell;\">toolbar&nbsp;=&nbsp;Toolbar(id='1253', ...),</div></div><div class=\"1348\" style=\"display: none;\"><div style=\"display: table-cell;\"></div><div style=\"display: table-cell;\">toolbar_location&nbsp;=&nbsp;'right',</div></div><div class=\"1348\" style=\"display: none;\"><div style=\"display: table-cell;\"></div><div style=\"display: table-cell;\">toolbar_sticky&nbsp;=&nbsp;True,</div></div><div class=\"1348\" style=\"display: none;\"><div style=\"display: table-cell;\"></div><div style=\"display: table-cell;\">visible&nbsp;=&nbsp;True,</div></div><div class=\"1348\" style=\"display: none;\"><div style=\"display: table-cell;\"></div><div style=\"display: table-cell;\">width&nbsp;=&nbsp;None,</div></div><div class=\"1348\" style=\"display: none;\"><div style=\"display: table-cell;\"></div><div style=\"display: table-cell;\">width_policy&nbsp;=&nbsp;'auto',</div></div><div class=\"1348\" style=\"display: none;\"><div style=\"display: table-cell;\"></div><div style=\"display: table-cell;\">x_range&nbsp;=&nbsp;DataRange1d(id='1229', ...),</div></div><div class=\"1348\" style=\"display: none;\"><div style=\"display: table-cell;\"></div><div style=\"display: table-cell;\">x_scale&nbsp;=&nbsp;LinearScale(id='1233', ...),</div></div><div class=\"1348\" style=\"display: none;\"><div style=\"display: table-cell;\"></div><div style=\"display: table-cell;\">y_range&nbsp;=&nbsp;DataRange1d(id='1231', ...),</div></div><div class=\"1348\" style=\"display: none;\"><div style=\"display: table-cell;\"></div><div style=\"display: table-cell;\">y_scale&nbsp;=&nbsp;LinearScale(id='1235', ...))</div></div></div>\n",
       "<script>\n",
       "(function() {\n",
       "  var expanded = false;\n",
       "  var ellipsis = document.getElementById(\"1349\");\n",
       "  ellipsis.addEventListener(\"click\", function() {\n",
       "    var rows = document.getElementsByClassName(\"1348\");\n",
       "    for (var i = 0; i < rows.length; i++) {\n",
       "      var el = rows[i];\n",
       "      el.style.display = expanded ? \"none\" : \"table-row\";\n",
       "    }\n",
       "    ellipsis.innerHTML = expanded ? \"&hellip;)\" : \"&lsaquo;&lsaquo;&lsaquo;\";\n",
       "    expanded = !expanded;\n",
       "  });\n",
       "})();\n",
       "</script>\n"
      ],
      "text/plain": [
       "Figure(id='1228', ...)"
      ]
     },
     "execution_count": 21,
     "metadata": {},
     "output_type": "execute_result"
    }
   ],
   "source": [
    "output_notebook()\n",
    "draw_vectors(word_vectors_tsne[:, 0], word_vectors_tsne[:, 1], token=words)"
   ]
  },
  {
   "cell_type": "code",
   "execution_count": null,
   "metadata": {},
   "outputs": [],
   "source": []
  }
 ],
 "metadata": {
  "colab": {
   "collapsed_sections": [],
   "name": "[seminar]embeddings.ipynb",
   "provenance": [],
   "version": "0.3.2"
  },
  "kernelspec": {
   "display_name": "Python 3",
   "language": "python",
   "name": "python3"
  },
  "language_info": {
   "codemirror_mode": {
    "name": "ipython",
    "version": 3
   },
   "file_extension": ".py",
   "mimetype": "text/x-python",
   "name": "python",
   "nbconvert_exporter": "python",
   "pygments_lexer": "ipython3",
   "version": "3.7.3"
  }
 },
 "nbformat": 4,
 "nbformat_minor": 1
}
